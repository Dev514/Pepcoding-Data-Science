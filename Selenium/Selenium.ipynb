{
  "nbformat": 4,
  "nbformat_minor": 0,
  "metadata": {
    "colab": {
      "name": "Selenium.ipynb",
      "provenance": []
    },
    "kernelspec": {
      "name": "python3",
      "display_name": "Python 3"
    },
    "language_info": {
      "name": "python"
    }
  },
  "cells": [
    {
      "cell_type": "markdown",
      "metadata": {
        "id": "kRIsIY3fuF0z"
      },
      "source": [
        "# **Selenium**\n",
        "It is basically a Web Browser Automation Tool, which simulates a user\n",
        "surfing the Internet.\n",
        "\n",
        "It allows -\n",
        "- Clicking buttons\n",
        "- Entering information in forms\n",
        "- Searching for specific information on the web pages\n",
        "\n",
        "## **BeautifulSoup\tLimitations**\n",
        "\n",
        "- This process is suitable for static content\n",
        "- Sometimes the data we want to extract is hidden behind JavaScript objects,\n",
        "objects that need to be clicked on to reveal the hidden data."
      ]
    },
    {
      "cell_type": "code",
      "metadata": {
        "id": "-HlKZstQxSQz"
      },
      "source": [
        "!pip install selenium\n",
        "!apt-get update # to update ubuntu to correctly run apt install\n",
        "!apt install chromium-chromedriver\n",
        "!cp /usr/lib/chromium-browser/chromedriver /usr/bin\n",
        "import sys\n",
        "sys.path.insert(0,'/usr/lib/chromium-browser/chromedriver')\n"
      ],
      "execution_count": null,
      "outputs": []
    },
    {
      "cell_type": "code",
      "metadata": {
        "colab": {
          "base_uri": "https://localhost:8080/"
        },
        "id": "2JdcJie7yxts",
        "outputId": "773aac30-5526-4771-8ea2-428e4124e831"
      },
      "source": [
        "from selenium import webdriver\n",
        "chrome_options = webdriver.ChromeOptions()\n",
        "chrome_options.add_argument('--headless')\n",
        "chrome_options.add_argument('--no-sandbox')\n",
        "chrome_options.add_argument('--disable-dev-shm-usage')\n",
        "driver = webdriver.Chrome('chromedriver',chrome_options=chrome_options)"
      ],
      "execution_count": 30,
      "outputs": [
        {
          "output_type": "stream",
          "name": "stderr",
          "text": [
            "/usr/local/lib/python3.7/dist-packages/ipykernel_launcher.py:6: DeprecationWarning: use options instead of chrome_options\n",
            "  \n"
          ]
        }
      ]
    },
    {
      "cell_type": "code",
      "metadata": {
        "id": "Y7qOm8Lyy4Qo"
      },
      "source": [
        "driver.get(\"https://www.python.org\")"
      ],
      "execution_count": 31,
      "outputs": []
    },
    {
      "cell_type": "code",
      "metadata": {
        "colab": {
          "base_uri": "https://localhost:8080/"
        },
        "id": "WdhHQWRfzqh7",
        "outputId": "fa4bb0c9-4933-4729-eb90-44e734142b62"
      },
      "source": [
        "print(driver.title)"
      ],
      "execution_count": 32,
      "outputs": [
        {
          "output_type": "stream",
          "name": "stdout",
          "text": [
            "Welcome to Python.org\n"
          ]
        }
      ]
    },
    {
      "cell_type": "code",
      "metadata": {
        "id": "XaFRZFH2zt8S"
      },
      "source": [
        "search_bar = driver.find_element(By.NAME, 'q')"
      ],
      "execution_count": 33,
      "outputs": []
    },
    {
      "cell_type": "code",
      "metadata": {
        "id": "LnKHyrLZzyY1"
      },
      "source": [
        "search_bar.clear()\n",
        "search_bar.send_keys(\"getting started with python\")\n",
        "search_bar.send_keys(Keys.RETURN)"
      ],
      "execution_count": 34,
      "outputs": []
    },
    {
      "cell_type": "code",
      "metadata": {
        "colab": {
          "base_uri": "https://localhost:8080/"
        },
        "id": "TablS8d5z8gT",
        "outputId": "a4dd9ef4-1b27-474b-aead-a9e70affe130"
      },
      "source": [
        "print(driver.current_url)"
      ],
      "execution_count": 35,
      "outputs": [
        {
          "output_type": "stream",
          "name": "stdout",
          "text": [
            "https://www.python.org/search/?q=getting+started+with+python&submit=\n"
          ]
        }
      ]
    },
    {
      "cell_type": "markdown",
      "metadata": {
        "id": "ADckAfRIvjcv"
      },
      "source": [
        "## **Login to Pepcoding using Selenium**"
      ]
    },
    {
      "cell_type": "code",
      "metadata": {
        "id": "EfmII9Kru1gj"
      },
      "source": [
        "import time\n",
        "\n",
        "url = \"https://www.pepcoding.com/login\"\n",
        "id = \"useid@gmail.com\"\n",
        "passwd = \"password\"\n",
        "\n",
        "\n",
        "driver.get(url)\n",
        "time.sleep(1)\n",
        "\n",
        "username = driver.find_element(By.NAME, 'email')\n",
        "username.send_keys(id)\n",
        "\n",
        "password = driver.find_element(By.NAME, 'password')\n",
        "password.send_keys(passwd)\n",
        "\n",
        "login = driver.find_element(By.XPATH, '//button')\n",
        "login.click()\n"
      ],
      "execution_count": 37,
      "outputs": []
    },
    {
      "cell_type": "code",
      "metadata": {
        "id": "LMO-olsk0ug3"
      },
      "source": [
        "driver.close()"
      ],
      "execution_count": 38,
      "outputs": []
    }
  ]
}