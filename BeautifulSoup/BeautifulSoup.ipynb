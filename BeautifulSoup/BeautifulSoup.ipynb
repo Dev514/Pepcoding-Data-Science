{
  "nbformat": 4,
  "nbformat_minor": 0,
  "metadata": {
    "colab": {
      "name": "BeautifulSoup.ipynb",
      "provenance": []
    },
    "kernelspec": {
      "name": "python3",
      "display_name": "Python 3"
    },
    "language_info": {
      "name": "python"
    }
  },
  "cells": [
    {
      "cell_type": "markdown",
      "metadata": {
        "id": "fGjpVV0iZDYI"
      },
      "source": [
        "# **Beautifulsoup Quick Start**"
      ]
    },
    {
      "cell_type": "code",
      "metadata": {
        "id": "bq6ZO-DqLjGW"
      },
      "source": [
        "html_doc = \"\"\"<html><head><title>The Dormouse's story</title></head>\n",
        "<body>\n",
        "<p class=\"title\"><b>The Dormouse's story</b></p>\n",
        "\n",
        "<p class=\"story\">Once upon a time there were three little sisters; and their names were\n",
        "<a href=\"http://example.com/elsie\" class=\"sister\" id=\"link1\">Elsie</a>,\n",
        "<a href=\"http://example.com/lacie\" class=\"sister\" id=\"link2\">Lacie</a> and\n",
        "<a href=\"http://example.com/tillie\" class=\"sister\" id=\"link3\">Tillie</a>;\n",
        "and they lived at the bottom of a well.</p>\n",
        "\n",
        "<p class=\"story\">...</p>\n",
        "\"\"\""
      ],
      "execution_count": null,
      "outputs": []
    },
    {
      "cell_type": "code",
      "metadata": {
        "colab": {
          "base_uri": "https://localhost:8080/"
        },
        "id": "B32HUIoVWvLH",
        "outputId": "4a2e1542-d190-4cbe-81cf-d6c966d94ade"
      },
      "source": [
        "from bs4 import BeautifulSoup\n",
        "soup = BeautifulSoup(html_doc, 'html.parser')\n",
        "\n",
        "print(soup.prettify())"
      ],
      "execution_count": null,
      "outputs": [
        {
          "output_type": "stream",
          "name": "stdout",
          "text": [
            "<html>\n",
            " <head>\n",
            "  <title>\n",
            "   The Dormouse's story\n",
            "  </title>\n",
            " </head>\n",
            " <body>\n",
            "  <p class=\"title\">\n",
            "   <b>\n",
            "    The Dormouse's story\n",
            "   </b>\n",
            "  </p>\n",
            "  <p class=\"story\">\n",
            "   Once upon a time there were three little sisters; and their names were\n",
            "   <a class=\"sister\" href=\"http://example.com/elsie\" id=\"link1\">\n",
            "    Elsie\n",
            "   </a>\n",
            "   ,\n",
            "   <a class=\"sister\" href=\"http://example.com/lacie\" id=\"link2\">\n",
            "    Lacie\n",
            "   </a>\n",
            "   and\n",
            "   <a class=\"sister\" href=\"http://example.com/tillie\" id=\"link3\">\n",
            "    Tillie\n",
            "   </a>\n",
            "   ;\n",
            "and they lived at the bottom of a well.\n",
            "  </p>\n",
            "  <p class=\"story\">\n",
            "   ...\n",
            "  </p>\n",
            " </body>\n",
            "</html>\n"
          ]
        }
      ]
    },
    {
      "cell_type": "markdown",
      "metadata": {
        "id": "6Dbrp0zQXHQ4"
      },
      "source": [
        "**Here are some simple ways to navigate that data structure**"
      ]
    },
    {
      "cell_type": "code",
      "metadata": {
        "colab": {
          "base_uri": "https://localhost:8080/"
        },
        "id": "FKAcmHM8XJDf",
        "outputId": "7beb537d-69b6-46a7-ca00-fe4ed5daa2c6"
      },
      "source": [
        "soup.title"
      ],
      "execution_count": null,
      "outputs": [
        {
          "output_type": "execute_result",
          "data": {
            "text/plain": [
              "<title>The Dormouse's story</title>"
            ]
          },
          "metadata": {},
          "execution_count": 4
        }
      ]
    },
    {
      "cell_type": "code",
      "metadata": {
        "colab": {
          "base_uri": "https://localhost:8080/",
          "height": 35
        },
        "id": "OUz-Swg_XN4Y",
        "outputId": "38310463-83a7-433b-92ab-65433223c002"
      },
      "source": [
        "soup.title.name"
      ],
      "execution_count": null,
      "outputs": [
        {
          "output_type": "execute_result",
          "data": {
            "application/vnd.google.colaboratory.intrinsic+json": {
              "type": "string"
            },
            "text/plain": [
              "'title'"
            ]
          },
          "metadata": {},
          "execution_count": 5
        }
      ]
    },
    {
      "cell_type": "code",
      "metadata": {
        "colab": {
          "base_uri": "https://localhost:8080/",
          "height": 35
        },
        "id": "9YLSpFQUXVKP",
        "outputId": "4b41d66d-9fe4-442e-84ec-846554576d7c"
      },
      "source": [
        "soup.title.string"
      ],
      "execution_count": null,
      "outputs": [
        {
          "output_type": "execute_result",
          "data": {
            "application/vnd.google.colaboratory.intrinsic+json": {
              "type": "string"
            },
            "text/plain": [
              "\"The Dormouse's story\""
            ]
          },
          "metadata": {},
          "execution_count": 6
        }
      ]
    },
    {
      "cell_type": "code",
      "metadata": {
        "colab": {
          "base_uri": "https://localhost:8080/",
          "height": 35
        },
        "id": "emBxQNITXYJh",
        "outputId": "ff4ccc63-edac-4f6a-8baf-0f3ece713f3e"
      },
      "source": [
        "soup.title.parent.name"
      ],
      "execution_count": null,
      "outputs": [
        {
          "output_type": "execute_result",
          "data": {
            "application/vnd.google.colaboratory.intrinsic+json": {
              "type": "string"
            },
            "text/plain": [
              "'head'"
            ]
          },
          "metadata": {},
          "execution_count": 7
        }
      ]
    },
    {
      "cell_type": "code",
      "metadata": {
        "colab": {
          "base_uri": "https://localhost:8080/"
        },
        "id": "VcbQgKByXa4H",
        "outputId": "3f8f2ab7-ae05-451e-e39a-4869d12b350c"
      },
      "source": [
        "soup.p"
      ],
      "execution_count": null,
      "outputs": [
        {
          "output_type": "execute_result",
          "data": {
            "text/plain": [
              "<p class=\"title\"><b>The Dormouse's story</b></p>"
            ]
          },
          "metadata": {},
          "execution_count": 8
        }
      ]
    },
    {
      "cell_type": "code",
      "metadata": {
        "colab": {
          "base_uri": "https://localhost:8080/"
        },
        "id": "q0-ZhATWXd9_",
        "outputId": "be2d0fc2-bb1b-4605-9937-b4a3ec138074"
      },
      "source": [
        "soup.p['class']"
      ],
      "execution_count": null,
      "outputs": [
        {
          "output_type": "execute_result",
          "data": {
            "text/plain": [
              "['title']"
            ]
          },
          "metadata": {},
          "execution_count": 9
        }
      ]
    },
    {
      "cell_type": "code",
      "metadata": {
        "colab": {
          "base_uri": "https://localhost:8080/"
        },
        "id": "FgOXM77LXhA5",
        "outputId": "a5e705ac-c796-4d12-e7d6-cab45ed9a514"
      },
      "source": [
        "soup.a"
      ],
      "execution_count": null,
      "outputs": [
        {
          "output_type": "execute_result",
          "data": {
            "text/plain": [
              "<a class=\"sister\" href=\"http://example.com/elsie\" id=\"link1\">Elsie</a>"
            ]
          },
          "metadata": {},
          "execution_count": 10
        }
      ]
    },
    {
      "cell_type": "code",
      "metadata": {
        "colab": {
          "base_uri": "https://localhost:8080/"
        },
        "id": "DbK8P4MUXj3J",
        "outputId": "774b170b-be3e-46ff-e282-3d7a6cafda68"
      },
      "source": [
        "soup.find_all('a')"
      ],
      "execution_count": null,
      "outputs": [
        {
          "output_type": "execute_result",
          "data": {
            "text/plain": [
              "[<a class=\"sister\" href=\"http://example.com/elsie\" id=\"link1\">Elsie</a>,\n",
              " <a class=\"sister\" href=\"http://example.com/lacie\" id=\"link2\">Lacie</a>,\n",
              " <a class=\"sister\" href=\"http://example.com/tillie\" id=\"link3\">Tillie</a>]"
            ]
          },
          "metadata": {},
          "execution_count": 11
        }
      ]
    },
    {
      "cell_type": "code",
      "metadata": {
        "colab": {
          "base_uri": "https://localhost:8080/"
        },
        "id": "RiKloZYhXmmv",
        "outputId": "752a3247-ed54-419b-abcd-d44cb084b711"
      },
      "source": [
        "soup.find(id=\"link3\")"
      ],
      "execution_count": null,
      "outputs": [
        {
          "output_type": "execute_result",
          "data": {
            "text/plain": [
              "<a class=\"sister\" href=\"http://example.com/tillie\" id=\"link3\">Tillie</a>"
            ]
          },
          "metadata": {},
          "execution_count": 12
        }
      ]
    },
    {
      "cell_type": "markdown",
      "metadata": {
        "id": "G4498AJzXtLh"
      },
      "source": [
        "**Extracting all the URLs found within a page’s < a > tags:**"
      ]
    },
    {
      "cell_type": "code",
      "metadata": {
        "colab": {
          "base_uri": "https://localhost:8080/"
        },
        "id": "kM-xe1mDXuY3",
        "outputId": "c1957fba-6d52-45db-a0c0-66dff6a2e036"
      },
      "source": [
        "for link in soup.find_all('a'):\n",
        "    print(link.get('href'))   #or print(link['href'])"
      ],
      "execution_count": null,
      "outputs": [
        {
          "output_type": "stream",
          "name": "stdout",
          "text": [
            "http://example.com/elsie\n",
            "http://example.com/lacie\n",
            "http://example.com/tillie\n"
          ]
        }
      ]
    },
    {
      "cell_type": "markdown",
      "metadata": {
        "id": "tW_bU8o3YN2v"
      },
      "source": [
        "**Extracting all the text from a page**"
      ]
    },
    {
      "cell_type": "code",
      "metadata": {
        "colab": {
          "base_uri": "https://localhost:8080/"
        },
        "id": "w_aRq3x3YUH_",
        "outputId": "872cfd1f-b3bf-4239-a773-1573ff84767d"
      },
      "source": [
        "print(soup.get_text())"
      ],
      "execution_count": null,
      "outputs": [
        {
          "output_type": "stream",
          "name": "stdout",
          "text": [
            "The Dormouse's story\n",
            "\n",
            "The Dormouse's story\n",
            "Once upon a time there were three little sisters; and their names were\n",
            "Elsie,\n",
            "Lacie and\n",
            "Tillie;\n",
            "and they lived at the bottom of a well.\n",
            "...\n",
            "\n"
          ]
        }
      ]
    },
    {
      "cell_type": "markdown",
      "metadata": {
        "id": "rSsv-RT3gS3n"
      },
      "source": [
        "### **Parsing a page with BeautifulSoup**\n"
      ]
    },
    {
      "cell_type": "code",
      "metadata": {
        "colab": {
          "base_uri": "https://localhost:8080/"
        },
        "id": "BpFRqEODgi6_",
        "outputId": "f2f21ffd-9740-4701-f301-4d0ff35c6ebe"
      },
      "source": [
        "import requests\n",
        "page = requests.get(\"https://dataquestio.github.io/web-scraping-pages/simple.html\")\n",
        "page"
      ],
      "execution_count": 28,
      "outputs": [
        {
          "output_type": "execute_result",
          "data": {
            "text/plain": [
              "<Response [200]>"
            ]
          },
          "metadata": {},
          "execution_count": 28
        }
      ]
    },
    {
      "cell_type": "code",
      "metadata": {
        "colab": {
          "base_uri": "https://localhost:8080/"
        },
        "id": "h6KyvQzlhVEZ",
        "outputId": "3b45420b-3272-4f69-aa1f-ffcd44cd2028"
      },
      "source": [
        "page.status_code  "
      ],
      "execution_count": 29,
      "outputs": [
        {
          "output_type": "execute_result",
          "data": {
            "text/plain": [
              "200"
            ]
          },
          "metadata": {},
          "execution_count": 29
        }
      ]
    },
    {
      "cell_type": "markdown",
      "metadata": {
        "id": "kb88Kw77haTI"
      },
      "source": [
        "A status_code of 200 means that the page downloaded successfully. We won’t fully dive into status codes here, but a status code starting with a 2 generally indicates success, and a code starting with a 4 or a 5 indicates an error.\n",
        "\n",
        "We can print out the HTML content of the page using the content property:"
      ]
    },
    {
      "cell_type": "code",
      "metadata": {
        "colab": {
          "base_uri": "https://localhost:8080/"
        },
        "id": "CmTkAfbihcKo",
        "outputId": "94c946f1-a3de-4d25-b49f-c834509b7c04"
      },
      "source": [
        "page.content  "
      ],
      "execution_count": 30,
      "outputs": [
        {
          "output_type": "execute_result",
          "data": {
            "text/plain": [
              "b'<!DOCTYPE html>\\n<html>\\n    <head>\\n        <title>A simple example page</title>\\n    </head>\\n    <body>\\n        <p>Here is some simple content for this page.</p>\\n    </body>\\n</html>'"
            ]
          },
          "metadata": {},
          "execution_count": 30
        }
      ]
    },
    {
      "cell_type": "code",
      "metadata": {
        "id": "4p48KjyohgrA"
      },
      "source": [
        "from bs4 import BeautifulSoup\n",
        "soup = BeautifulSoup(page.content, 'html.parser')"
      ],
      "execution_count": 31,
      "outputs": []
    },
    {
      "cell_type": "code",
      "metadata": {
        "colab": {
          "base_uri": "https://localhost:8080/"
        },
        "id": "OteescVEhhWF",
        "outputId": "5ba1ba64-0597-4774-899e-57c35b6551e0"
      },
      "source": [
        "print(soup.prettify())"
      ],
      "execution_count": 32,
      "outputs": [
        {
          "output_type": "stream",
          "name": "stdout",
          "text": [
            "<!DOCTYPE html>\n",
            "<html>\n",
            " <head>\n",
            "  <title>\n",
            "   A simple example page\n",
            "  </title>\n",
            " </head>\n",
            " <body>\n",
            "  <p>\n",
            "   Here is some simple content for this page.\n",
            "  </p>\n",
            " </body>\n",
            "</html>\n"
          ]
        }
      ]
    },
    {
      "cell_type": "markdown",
      "metadata": {
        "id": "AMB-orMzh384"
      },
      "source": [
        "As all the tags are nested, we can move through the structure one level at a time. We can first select all the elements at the top level of the page using the children property of soup.\n",
        "\n",
        "Note that children returns a list generator, so we need to call the list function on it:"
      ]
    },
    {
      "cell_type": "code",
      "metadata": {
        "colab": {
          "base_uri": "https://localhost:8080/"
        },
        "id": "5wv6GrIBh5FK",
        "outputId": "720ade43-892d-46ff-f5fd-94ae1f1e93c5"
      },
      "source": [
        "list(soup.children)"
      ],
      "execution_count": 33,
      "outputs": [
        {
          "output_type": "execute_result",
          "data": {
            "text/plain": [
              "['html', '\\n', <html>\n",
              " <head>\n",
              " <title>A simple example page</title>\n",
              " </head>\n",
              " <body>\n",
              " <p>Here is some simple content for this page.</p>\n",
              " </body>\n",
              " </html>]"
            ]
          },
          "metadata": {},
          "execution_count": 33
        }
      ]
    },
    {
      "cell_type": "code",
      "metadata": {
        "colab": {
          "base_uri": "https://localhost:8080/"
        },
        "id": "aO05PAg2iCV4",
        "outputId": "4294da97-cd27-4e4e-f3ad-7445c5c51a7f"
      },
      "source": [
        "[type(item) for item in list(soup.children)]"
      ],
      "execution_count": 34,
      "outputs": [
        {
          "output_type": "execute_result",
          "data": {
            "text/plain": [
              "[bs4.element.Doctype, bs4.element.NavigableString, bs4.element.Tag]"
            ]
          },
          "metadata": {},
          "execution_count": 34
        }
      ]
    },
    {
      "cell_type": "markdown",
      "metadata": {
        "id": "GAUqX46GiNSr"
      },
      "source": [
        "As we can see, all of the items are BeautifulSoup objects:\n",
        "\n",
        "- The first is a Doctype object, which contains information about the type of the document.\n",
        "- The second is a NavigableString, which represents text found in the HTML document.\n",
        "- The final item is a Tag object, which contains other nested tags."
      ]
    },
    {
      "cell_type": "code",
      "metadata": {
        "colab": {
          "base_uri": "https://localhost:8080/"
        },
        "id": "Rm41kuFeiRwB",
        "outputId": "79f88e55-b4e7-47f3-e26e-aec158e7e5dd"
      },
      "source": [
        "html = list(soup.children)[2]\n",
        "list(html.children)"
      ],
      "execution_count": 36,
      "outputs": [
        {
          "output_type": "execute_result",
          "data": {
            "text/plain": [
              "['\\n', <head>\n",
              " <title>A simple example page</title>\n",
              " </head>, '\\n', <body>\n",
              " <p>Here is some simple content for this page.</p>\n",
              " </body>, '\\n']"
            ]
          },
          "metadata": {},
          "execution_count": 36
        }
      ]
    },
    {
      "cell_type": "code",
      "metadata": {
        "colab": {
          "base_uri": "https://localhost:8080/"
        },
        "id": "7xHUUVg3iXfJ",
        "outputId": "cae05e78-b9f7-42ba-e402-a7c4792025f8"
      },
      "source": [
        "body = list(html.children)[3]\n",
        "list(body.children)"
      ],
      "execution_count": 37,
      "outputs": [
        {
          "output_type": "execute_result",
          "data": {
            "text/plain": [
              "['\\n', <p>Here is some simple content for this page.</p>, '\\n']"
            ]
          },
          "metadata": {},
          "execution_count": 37
        }
      ]
    },
    {
      "cell_type": "code",
      "metadata": {
        "colab": {
          "base_uri": "https://localhost:8080/",
          "height": 35
        },
        "id": "1l6_M5ZhicCx",
        "outputId": "7296661c-5bef-4717-d1c0-82bff5d1d849"
      },
      "source": [
        "p = list(body.children)[1]\n",
        "p.get_text()"
      ],
      "execution_count": 38,
      "outputs": [
        {
          "output_type": "execute_result",
          "data": {
            "application/vnd.google.colaboratory.intrinsic+json": {
              "type": "string"
            },
            "text/plain": [
              "'Here is some simple content for this page.'"
            ]
          },
          "metadata": {},
          "execution_count": 38
        }
      ]
    },
    {
      "cell_type": "markdown",
      "metadata": {
        "id": "id_UuTYMih9S"
      },
      "source": [
        "### **Finding all instances of a tag at once**"
      ]
    },
    {
      "cell_type": "code",
      "metadata": {
        "colab": {
          "base_uri": "https://localhost:8080/"
        },
        "id": "bFmPqD0cikaw",
        "outputId": "f19e78c0-59d2-438a-be09-ff3b7bffa8a8"
      },
      "source": [
        "page = requests.get(\"https://dataquestio.github.io/web-scraping-pages/ids_and_classes.html\")\n",
        "soup = BeautifulSoup(page.content, 'html.parser')\n",
        "soup"
      ],
      "execution_count": 48,
      "outputs": [
        {
          "output_type": "execute_result",
          "data": {
            "text/plain": [
              "<html>\n",
              "<head>\n",
              "<title>A simple example page</title>\n",
              "</head>\n",
              "<body>\n",
              "<div>\n",
              "<p class=\"inner-text first-item\" id=\"first\">\n",
              "                First paragraph.\n",
              "            </p>\n",
              "<p class=\"inner-text\">\n",
              "                Second paragraph.\n",
              "            </p>\n",
              "</div>\n",
              "<p class=\"outer-text first-item\" id=\"second\">\n",
              "<b>\n",
              "                First outer paragraph.\n",
              "            </b>\n",
              "</p>\n",
              "<p class=\"outer-text\">\n",
              "<b>\n",
              "                Second outer paragraph.\n",
              "            </b>\n",
              "</p>\n",
              "</body>\n",
              "</html>"
            ]
          },
          "metadata": {},
          "execution_count": 48
        }
      ]
    },
    {
      "cell_type": "code",
      "metadata": {
        "colab": {
          "base_uri": "https://localhost:8080/"
        },
        "id": "zU9YR6E3i-Qq",
        "outputId": "705cac79-dae0-439c-a920-1c406ccce77b"
      },
      "source": [
        "soup.find_all('p', class_='outer-text')"
      ],
      "execution_count": 45,
      "outputs": [
        {
          "output_type": "execute_result",
          "data": {
            "text/plain": [
              "[<p class=\"outer-text first-item\" id=\"second\">\n",
              " <b>\n",
              "                 First outer paragraph.\n",
              "             </b>\n",
              " </p>, <p class=\"outer-text\">\n",
              " <b>\n",
              "                 Second outer paragraph.\n",
              "             </b>\n",
              " </p>]"
            ]
          },
          "metadata": {},
          "execution_count": 45
        }
      ]
    },
    {
      "cell_type": "code",
      "metadata": {
        "colab": {
          "base_uri": "https://localhost:8080/"
        },
        "id": "ytcmK99Nji_4",
        "outputId": "0629ede9-abfc-401c-e9ae-8f54d8dda054"
      },
      "source": [
        "soup.find_all(class_=\"outer-text\")"
      ],
      "execution_count": 46,
      "outputs": [
        {
          "output_type": "execute_result",
          "data": {
            "text/plain": [
              "[<p class=\"outer-text first-item\" id=\"second\">\n",
              " <b>\n",
              "                 First outer paragraph.\n",
              "             </b>\n",
              " </p>, <p class=\"outer-text\">\n",
              " <b>\n",
              "                 Second outer paragraph.\n",
              "             </b>\n",
              " </p>]"
            ]
          },
          "metadata": {},
          "execution_count": 46
        }
      ]
    },
    {
      "cell_type": "code",
      "metadata": {
        "colab": {
          "base_uri": "https://localhost:8080/"
        },
        "id": "wYFU0N49jlSQ",
        "outputId": "1aed1b84-f4b8-4638-9047-60dacb034d11"
      },
      "source": [
        "soup.find_all(id=\"first\")"
      ],
      "execution_count": 47,
      "outputs": [
        {
          "output_type": "execute_result",
          "data": {
            "text/plain": [
              "[<p class=\"inner-text first-item\" id=\"first\">\n",
              "                 First paragraph.\n",
              "             </p>]"
            ]
          },
          "metadata": {},
          "execution_count": 47
        }
      ]
    },
    {
      "cell_type": "markdown",
      "metadata": {
        "id": "5AjdX4eLjrrS"
      },
      "source": [
        "### **Using CSS Selectors**\n",
        "We can also search for items using CSS selectors. These selectors are how the CSS language allows developers to specify HTML tags to style. Here are some examples:\n",
        "\n",
        "- p a — finds all a tags inside of a p tag.\n",
        "- body p a — finds all a tags inside of a p tag inside of a body tag.\n",
        "- html body — finds all body tags inside of an html tag.\n",
        "- p.outer-text — finds all p tags with a class of outer-text.\n",
        "- p#first — finds all p tags with an id of first.\n",
        "- body p.outer-text — finds any p tags with a class of outer-text inside of a body tag."
      ]
    },
    {
      "cell_type": "code",
      "metadata": {
        "colab": {
          "base_uri": "https://localhost:8080/"
        },
        "id": "YSv7ZsEtj5fh",
        "outputId": "d2832aaf-3a65-4004-f253-e06839288472"
      },
      "source": [
        "soup.select(\"div p\")"
      ],
      "execution_count": 49,
      "outputs": [
        {
          "output_type": "execute_result",
          "data": {
            "text/plain": [
              "[<p class=\"inner-text first-item\" id=\"first\">\n",
              "                 First paragraph.\n",
              "             </p>, <p class=\"inner-text\">\n",
              "                 Second paragraph.\n",
              "             </p>]"
            ]
          },
          "metadata": {},
          "execution_count": 49
        }
      ]
    },
    {
      "cell_type": "markdown",
      "metadata": {
        "id": "3WWxQd7pkQ8B"
      },
      "source": [
        "# **Time to Start Scraping!**\n",
        "We now know enough to download the page and start parsing it. In the below code, we will:\n",
        "\n",
        "- Download the web page containing the forecast.\n",
        "- Create a BeautifulSoup class to parse the page.\n",
        "- Find the div with id seven-day-forecast, and assign to seven_day\n",
        "- Inside seven_day, find each individual forecast item.\n",
        "- Extract and print the first forecast item."
      ]
    },
    {
      "cell_type": "code",
      "metadata": {
        "colab": {
          "base_uri": "https://localhost:8080/"
        },
        "id": "9OBUzZkzkdip",
        "outputId": "abb787c0-a85e-4b8a-9692-b289edda1756"
      },
      "source": [
        "page = requests.get(\"https://forecast.weather.gov/MapClick.php?lat=37.7772&lon=-122.4168\")\n",
        "soup = BeautifulSoup(page.content, 'html.parser')\n",
        "seven_day = soup.find(id=\"seven-day-forecast\")\n",
        "forecast_items = seven_day.find_all(class_=\"tombstone-container\")\n",
        "tonight = forecast_items[0]\n",
        "print(tonight.prettify())"
      ],
      "execution_count": 50,
      "outputs": [
        {
          "output_type": "stream",
          "name": "stdout",
          "text": [
            "<div class=\"tombstone-container\">\n",
            " <p class=\"period-name\">\n",
            "  Today\n",
            "  <br/>\n",
            "  <br/>\n",
            " </p>\n",
            " <p>\n",
            "  <img alt=\"Today: Rain, mainly after 4pm.  High near 63. Light and variable wind becoming southwest 8 to 13 mph in the afternoon.  Chance of precipitation is 80%. New precipitation amounts between a tenth and quarter of an inch possible. \" class=\"forecast-icon\" src=\"DualImage.php?i=ra&amp;j=ra&amp;ip=20&amp;jp=80\" title=\"Today: Rain, mainly after 4pm.  High near 63. Light and variable wind becoming southwest 8 to 13 mph in the afternoon.  Chance of precipitation is 80%. New precipitation amounts between a tenth and quarter of an inch possible. \"/>\n",
            " </p>\n",
            " <p class=\"short-desc\">\n",
            "  Slight Chance\n",
            "  <br/>\n",
            "  Rain then\n",
            "  <br/>\n",
            "  Rain\n",
            " </p>\n",
            " <p class=\"temp temp-high\">\n",
            "  High: 63 °F\n",
            " </p>\n",
            "</div>\n"
          ]
        }
      ]
    },
    {
      "cell_type": "markdown",
      "metadata": {
        "id": "jzztkTt5kiZ4"
      },
      "source": [
        "### **Extracting information from the page**"
      ]
    },
    {
      "cell_type": "code",
      "metadata": {
        "colab": {
          "base_uri": "https://localhost:8080/"
        },
        "id": "aISLwoGMklCo",
        "outputId": "5b8b4fe7-877e-4522-c5b6-bf0608f92309"
      },
      "source": [
        "period = tonight.find(class_=\"period-name\").get_text()\n",
        "short_desc = tonight.find(class_=\"short-desc\").get_text()\n",
        "temp = tonight.find(class_=\"temp\").get_text()\n",
        "print(period)\n",
        "print(short_desc)\n",
        "print(temp)"
      ],
      "execution_count": 51,
      "outputs": [
        {
          "output_type": "stream",
          "name": "stdout",
          "text": [
            "Today\n",
            "Slight ChanceRain thenRain\n",
            "High: 63 °F\n"
          ]
        }
      ]
    },
    {
      "cell_type": "code",
      "metadata": {
        "colab": {
          "base_uri": "https://localhost:8080/"
        },
        "id": "lue-tdLGkpSQ",
        "outputId": "287c5791-f83e-4f6a-eb12-5061094ac79b"
      },
      "source": [
        "img = tonight.find(\"img\")\n",
        "desc = img['title']\n",
        "print(desc)"
      ],
      "execution_count": 52,
      "outputs": [
        {
          "output_type": "stream",
          "name": "stdout",
          "text": [
            "Today: Rain, mainly after 4pm.  High near 63. Light and variable wind becoming southwest 8 to 13 mph in the afternoon.  Chance of precipitation is 80%. New precipitation amounts between a tenth and quarter of an inch possible. \n"
          ]
        }
      ]
    },
    {
      "cell_type": "markdown",
      "metadata": {
        "id": "tLzZN7BRkud4"
      },
      "source": [
        "### **Extracting all the information from the page**"
      ]
    },
    {
      "cell_type": "code",
      "metadata": {
        "colab": {
          "base_uri": "https://localhost:8080/"
        },
        "id": "SGFEXHAHkwTy",
        "outputId": "2d048f2b-46a4-4880-b63e-ead794a9e934"
      },
      "source": [
        "period_tags = seven_day.select(\".tombstone-container .period-name\")\n",
        "periods = [pt.get_text() for pt in period_tags]\n",
        "periods"
      ],
      "execution_count": 53,
      "outputs": [
        {
          "output_type": "execute_result",
          "data": {
            "text/plain": [
              "['Today',\n",
              " 'Tonight',\n",
              " 'Tuesday',\n",
              " 'TuesdayNight',\n",
              " 'Wednesday',\n",
              " 'WednesdayNight',\n",
              " 'VeteransDay',\n",
              " 'ThursdayNight',\n",
              " 'Friday']"
            ]
          },
          "metadata": {},
          "execution_count": 53
        }
      ]
    },
    {
      "cell_type": "code",
      "metadata": {
        "colab": {
          "base_uri": "https://localhost:8080/"
        },
        "id": "ylmfywgQk1DI",
        "outputId": "938e6ae4-e510-47c6-c2a6-3a23931fd3bc"
      },
      "source": [
        "short_descs = [sd.get_text() for sd in seven_day.select(\".tombstone-container .short-desc\")]\n",
        "temps = [t.get_text() for t in seven_day.select(\".tombstone-container .temp\")]\n",
        "descs = [d[\"title\"] for d in seven_day.select(\".tombstone-container img\")]\n",
        "print(short_descs)\n",
        "print(temps)\n",
        "print(descs)"
      ],
      "execution_count": 57,
      "outputs": [
        {
          "output_type": "stream",
          "name": "stdout",
          "text": [
            "['Slight ChanceRain thenRain', 'Showers andWindy', 'Showers', 'Chance Rainthen MostlyCloudy', 'Partly Sunny', 'Partly Cloudy', 'Mostly Sunny', 'Partly Cloudy', 'Mostly Sunny']\n",
            "['High: 63 °F', 'Low: 56 °F', 'High: 65 °F', 'Low: 53 °F', 'High: 64 °F', 'Low: 54 °F', 'High: 68 °F', 'Low: 54 °F', 'High: 68 °F']\n",
            "['Today: Rain, mainly after 4pm.  High near 63. Light and variable wind becoming southwest 8 to 13 mph in the afternoon.  Chance of precipitation is 80%. New precipitation amounts between a tenth and quarter of an inch possible. ', 'Tonight: Rain before 10pm, then showers and possibly a thunderstorm after 10pm.  Steady temperature around 56. Windy, with a south wind 16 to 21 mph increasing to 25 to 30 mph in the evening. Winds could gust as high as 44 mph.  Chance of precipitation is 100%. New rainfall amounts between three quarters and one inch possible. ', 'Tuesday: Showers and possibly a thunderstorm before 10am, then rain likely, mainly between 10am and 4pm.  High near 65. West southwest wind around 9 mph.  Chance of precipitation is 90%. New precipitation amounts between a tenth and quarter of an inch, except higher amounts possible in thunderstorms. ', 'Tuesday Night: A 30 percent chance of rain before 10pm.  Mostly cloudy, with a low around 53. West southwest wind around 5 mph becoming light and variable  in the evening. ', 'Wednesday: Partly sunny, with a high near 64. Calm wind becoming northwest around 6 mph in the afternoon. ', 'Wednesday Night: Partly cloudy, with a low around 54.', 'Veterans Day: Mostly sunny, with a high near 68.', 'Thursday Night: Partly cloudy, with a low around 54.', 'Friday: Mostly sunny, with a high near 68.']\n"
          ]
        }
      ]
    },
    {
      "cell_type": "markdown",
      "metadata": {
        "id": "-rLjfVRKk-hE"
      },
      "source": [
        "### **Combining our data into a Pandas Dataframe**"
      ]
    },
    {
      "cell_type": "code",
      "metadata": {
        "colab": {
          "base_uri": "https://localhost:8080/",
          "height": 328
        },
        "id": "LZ_8_fV4lAYc",
        "outputId": "31120a41-a0ed-4fe0-9ddb-ef77ef50b7bf"
      },
      "source": [
        "import pandas as pd\n",
        "weather = pd.DataFrame({\n",
        "    \"period\": periods,\n",
        "    \"short_desc\": short_descs,\n",
        "    \"temp\": temps,\n",
        "    \"desc\":descs\n",
        "})\n",
        "weather"
      ],
      "execution_count": 60,
      "outputs": [
        {
          "output_type": "execute_result",
          "data": {
            "text/html": [
              "<div>\n",
              "<style scoped>\n",
              "    .dataframe tbody tr th:only-of-type {\n",
              "        vertical-align: middle;\n",
              "    }\n",
              "\n",
              "    .dataframe tbody tr th {\n",
              "        vertical-align: top;\n",
              "    }\n",
              "\n",
              "    .dataframe thead th {\n",
              "        text-align: right;\n",
              "    }\n",
              "</style>\n",
              "<table border=\"1\" class=\"dataframe\">\n",
              "  <thead>\n",
              "    <tr style=\"text-align: right;\">\n",
              "      <th></th>\n",
              "      <th>period</th>\n",
              "      <th>short_desc</th>\n",
              "      <th>temp</th>\n",
              "      <th>desc</th>\n",
              "    </tr>\n",
              "  </thead>\n",
              "  <tbody>\n",
              "    <tr>\n",
              "      <th>0</th>\n",
              "      <td>Today</td>\n",
              "      <td>Slight ChanceRain thenRain</td>\n",
              "      <td>High: 63 °F</td>\n",
              "      <td>Today: Rain, mainly after 4pm.  High near 63. ...</td>\n",
              "    </tr>\n",
              "    <tr>\n",
              "      <th>1</th>\n",
              "      <td>Tonight</td>\n",
              "      <td>Showers andWindy</td>\n",
              "      <td>Low: 56 °F</td>\n",
              "      <td>Tonight: Rain before 10pm, then showers and po...</td>\n",
              "    </tr>\n",
              "    <tr>\n",
              "      <th>2</th>\n",
              "      <td>Tuesday</td>\n",
              "      <td>Showers</td>\n",
              "      <td>High: 65 °F</td>\n",
              "      <td>Tuesday: Showers and possibly a thunderstorm b...</td>\n",
              "    </tr>\n",
              "    <tr>\n",
              "      <th>3</th>\n",
              "      <td>TuesdayNight</td>\n",
              "      <td>Chance Rainthen MostlyCloudy</td>\n",
              "      <td>Low: 53 °F</td>\n",
              "      <td>Tuesday Night: A 30 percent chance of rain bef...</td>\n",
              "    </tr>\n",
              "    <tr>\n",
              "      <th>4</th>\n",
              "      <td>Wednesday</td>\n",
              "      <td>Partly Sunny</td>\n",
              "      <td>High: 64 °F</td>\n",
              "      <td>Wednesday: Partly sunny, with a high near 64. ...</td>\n",
              "    </tr>\n",
              "    <tr>\n",
              "      <th>5</th>\n",
              "      <td>WednesdayNight</td>\n",
              "      <td>Partly Cloudy</td>\n",
              "      <td>Low: 54 °F</td>\n",
              "      <td>Wednesday Night: Partly cloudy, with a low aro...</td>\n",
              "    </tr>\n",
              "    <tr>\n",
              "      <th>6</th>\n",
              "      <td>VeteransDay</td>\n",
              "      <td>Mostly Sunny</td>\n",
              "      <td>High: 68 °F</td>\n",
              "      <td>Veterans Day: Mostly sunny, with a high near 68.</td>\n",
              "    </tr>\n",
              "    <tr>\n",
              "      <th>7</th>\n",
              "      <td>ThursdayNight</td>\n",
              "      <td>Partly Cloudy</td>\n",
              "      <td>Low: 54 °F</td>\n",
              "      <td>Thursday Night: Partly cloudy, with a low arou...</td>\n",
              "    </tr>\n",
              "    <tr>\n",
              "      <th>8</th>\n",
              "      <td>Friday</td>\n",
              "      <td>Mostly Sunny</td>\n",
              "      <td>High: 68 °F</td>\n",
              "      <td>Friday: Mostly sunny, with a high near 68.</td>\n",
              "    </tr>\n",
              "  </tbody>\n",
              "</table>\n",
              "</div>"
            ],
            "text/plain": [
              "           period  ...                                               desc\n",
              "0           Today  ...  Today: Rain, mainly after 4pm.  High near 63. ...\n",
              "1         Tonight  ...  Tonight: Rain before 10pm, then showers and po...\n",
              "2         Tuesday  ...  Tuesday: Showers and possibly a thunderstorm b...\n",
              "3    TuesdayNight  ...  Tuesday Night: A 30 percent chance of rain bef...\n",
              "4       Wednesday  ...  Wednesday: Partly sunny, with a high near 64. ...\n",
              "5  WednesdayNight  ...  Wednesday Night: Partly cloudy, with a low aro...\n",
              "6     VeteransDay  ...   Veterans Day: Mostly sunny, with a high near 68.\n",
              "7   ThursdayNight  ...  Thursday Night: Partly cloudy, with a low arou...\n",
              "8          Friday  ...         Friday: Mostly sunny, with a high near 68.\n",
              "\n",
              "[9 rows x 4 columns]"
            ]
          },
          "metadata": {},
          "execution_count": 60
        }
      ]
    }
  ]
}