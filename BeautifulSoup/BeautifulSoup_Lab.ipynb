{
  "nbformat": 4,
  "nbformat_minor": 0,
  "metadata": {
    "colab": {
      "name": "BeautifulSoup - Lab.ipynb",
      "provenance": []
    },
    "kernelspec": {
      "name": "python3",
      "display_name": "Python 3"
    },
    "language_info": {
      "name": "python"
    }
  },
  "cells": [
    {
      "cell_type": "markdown",
      "metadata": {
        "id": "yLnJV7TXoRpD"
      },
      "source": [
        "# **Get all the Questions List from Pepcoding**"
      ]
    },
    {
      "cell_type": "code",
      "metadata": {
        "colab": {
          "base_uri": "https://localhost:8080/"
        },
        "id": "Zi47KZZCpZG6",
        "outputId": "bb947a93-9c74-45a0-bcf5-a870943d6f88"
      },
      "source": [
        "import requests\n",
        "from bs4 import BeautifulSoup\n",
        "\n",
        "URL = \"https://www.pepcoding.com/resources/online-java-foundation/linked-lists\"\n",
        "page = requests.get(URL)\n",
        "soup = BeautifulSoup(page.content, \"html.parser\")\n",
        "\n",
        "question_list = soup.find_all(\"li\", attrs={\"resource-type\":\"ojquestion\"})\n",
        "\n",
        "for question in question_list:\n",
        "    a = question.find('a', href=True)\n",
        "    href = 'https://www.pepcoding.com' + a['href']\n",
        "    name = a.text.lstrip().rstrip()\n",
        "    id = question['resource-type-id']\n",
        "    print(name, \"\\t->\", href)"
      ],
      "execution_count": 9,
      "outputs": [
        {
          "output_type": "stream",
          "name": "stdout",
          "text": [
            "Add Last In Linked List \t-> https://www.pepcoding.com/resources/online-java-foundation/linked-lists/add-last-linked-list-official/ojquestion\n",
            "Display A Linkedlist \t-> https://www.pepcoding.com/resources/online-java-foundation/linked-lists/display-linked-list-official/ojquestion\n",
            "Remove First In Linkedlist \t-> https://www.pepcoding.com/resources/online-java-foundation/linked-lists/remove-first-linked-list-official/ojquestion\n",
            "Get Value In Linked List \t-> https://www.pepcoding.com/resources/online-java-foundation/linked-lists/get-in-linked-list-official/ojquestion\n",
            "Add First In Linked List \t-> https://www.pepcoding.com/resources/online-java-foundation/linked-lists/add-first-in-linked-list-official/ojquestion\n",
            "Add At Index In Linked List \t-> https://www.pepcoding.com/resources/online-java-foundation/linked-lists/add-at-index-in-linked-list-official/ojquestion\n",
            "Remove Last In Linked List \t-> https://www.pepcoding.com/resources/online-java-foundation/linked-lists/remove-last-in-linked-list/ojquestion\n",
            "Remove At Index In Linked List \t-> https://www.pepcoding.com/resources/online-java-foundation/linked-lists/remove-at-linked-list-official/ojquestion\n",
            "Reverse A Linked List (data Iterative) \t-> https://www.pepcoding.com/resources/online-java-foundation/linked-lists/reverse-di-official/ojquestion\n",
            "Reverse Linked List (pointer Iterative) \t-> https://www.pepcoding.com/resources/online-java-foundation/linked-lists/reverse-pi-official/ojquestion\n",
            "Linked List To Stack Adapter \t-> https://www.pepcoding.com/resources/online-java-foundation/linked-lists/linkedlist-to-stack-adapter-official/ojquestion\n",
            "Linked List To Queue Adapter \t-> https://www.pepcoding.com/resources/online-java-foundation/linked-lists/linked-list-to-queue-adapter-official/ojquestion\n",
            "Kth Node From End Of Linked List \t-> https://www.pepcoding.com/resources/online-java-foundation/linked-lists/kth-from-last-official/ojquestion\n",
            "Mid Of Linked List \t-> https://www.pepcoding.com/resources/online-java-foundation/linked-lists/mid-linked-list-official/ojquestion\n",
            "Merge Two Sorted Linked Lists \t-> https://www.pepcoding.com/resources/online-java-foundation/linked-lists/merge-two-sorted-linked-lists-official/ojquestion\n",
            "Merge Sort A Linked List \t-> https://www.pepcoding.com/resources/online-java-foundation/linked-lists/mergesort-linkedlist-official/ojquestion\n",
            "Remove Duplicates In A Sorted Linked List \t-> https://www.pepcoding.com/resources/online-java-foundation/linked-lists/remove-duplicates-official/ojquestion\n",
            "Odd Even Linked List \t-> https://www.pepcoding.com/resources/online-java-foundation/linked-lists/odd-even-linked-list-official/ojquestion\n",
            "K Reverse In Linked List \t-> https://www.pepcoding.com/resources/online-java-foundation/linked-lists/kreverse-linkedlist-official/ojquestion\n",
            "Display Reverse (recursive) - Linked List \t-> https://www.pepcoding.com/resources/online-java-foundation/linked-lists/display-reverse-linkedlist-official/ojquestion\n",
            "Reverse Linked List (pointer - Recursive) \t-> https://www.pepcoding.com/resources/online-java-foundation/linked-lists/reverse-linkedlist-pr-official/ojquestion\n",
            "Is Linked List A Palindrome? \t-> https://www.pepcoding.com/resources/online-java-foundation/linked-lists/is-linkedlist-palindromic-official/ojquestion\n",
            "Fold A Linked List \t-> https://www.pepcoding.com/resources/online-java-foundation/linked-lists/fold-linkedlist-official/ojquestion\n",
            "Add Two Linked Lists \t-> https://www.pepcoding.com/resources/online-java-foundation/linked-lists/add-two-linkedlists-official/ojquestion\n",
            "Intersection Point Of Linked Lists \t-> https://www.pepcoding.com/resources/online-java-foundation/linked-lists/intersection-of-linked-lists-official/ojquestion\n"
          ]
        }
      ]
    },
    {
      "cell_type": "markdown",
      "metadata": {
        "id": "eig3kv1Op0bj"
      },
      "source": [
        "### **Count all questions and save to CSV file**"
      ]
    },
    {
      "cell_type": "code",
      "metadata": {
        "colab": {
          "base_uri": "https://localhost:8080/"
        },
        "id": "CeL3FjzBoDTr",
        "outputId": "4473e9cb-8948-43ea-ae8d-d9dc5e748720"
      },
      "source": [
        "URL = \"https://www.pepcoding.com/resources/online-java-foundation\"\n",
        "page = requests.get(URL)\n",
        "soup = BeautifulSoup(page.content, \"html.parser\")\n",
        "\n",
        "module_list = soup.find_all(\"li\", class_=\"classResourceList\")\n",
        "\n",
        "question_id = []\n",
        "question_name = []\n",
        "topic_name = []\n",
        "module_name = []\n",
        "\n",
        "print(\"No of Que \\t Topic Name\")\n",
        "\n",
        "for module in module_list:\n",
        "    module_div = module.find(\"div\", class_=\"collapsible-header\")\n",
        "    mname = module_div.text.lstrip().rstrip()\n",
        "    \n",
        "    topic_list = module.find_all(\"li\", class_=\"list-item\")\n",
        "\n",
        "    for topic in topic_list:\n",
        "        topic_href = \"https://www.pepcoding.com\" + topic.find('a', href=True)['href']\n",
        "        tname = topic.text.lstrip().rstrip()\n",
        "        \n",
        "        topic_page = requests.get(topic_href)\n",
        "        topic_soup = BeautifulSoup(topic_page.content, \"html.parser\")\n",
        "        question_list = topic_soup.find_all(\"li\", attrs={\"resource-type\":\"ojquestion\"})\n",
        "\n",
        "        count = 0\n",
        "        for question in question_list:\n",
        "            qname = question.find('a', href=True).text.lstrip().rstrip()\n",
        "            qid = question['resource-type-id']\n",
        "            \n",
        "            question_id.append(qid)\n",
        "            question_name.append(qname)\n",
        "            topic_name.append(tname)\n",
        "            module_name.append(mname)\n",
        "            count += 1\n",
        "        print(count, \"->\", tname)\n"
      ],
      "execution_count": 5,
      "outputs": [
        {
          "output_type": "stream",
          "name": "stdout",
          "text": [
            "No of Que \t Topic Name\n",
            "17 -> Getting Started\n",
            "0 -> JAVA for C++ Coders\n",
            "22 -> Patterns\n",
            "20 -> Function and Arrays\n",
            "10 -> 2D Arrays\n",
            "6 -> String, String Builder and ArrayList\n",
            "8 -> Introduction to Recursion\n",
            "6 -> Recursion in Arrays\n",
            "5 -> Recursion with Arraylists\n",
            "7 -> Recursion on the way up\n",
            "4 -> Recursion Backtracking\n",
            "15 -> Time and Space Complexity\n",
            "30 -> Dynamic Programming and Greedy\n",
            "0 -> OOPS\n",
            "24 -> Stacks and Queues\n",
            "25 -> Linked Lists\n",
            "23 -> Generic Tree\n",
            "16 -> Binary Tree\n",
            "7 -> Binary Search Tree\n",
            "10 -> Hashmap And Heap\n",
            "17 -> Graphs\n",
            "0 -> JAVA for C++ Coders\n"
          ]
        }
      ]
    },
    {
      "cell_type": "markdown",
      "metadata": {
        "id": "qyVR_0REqUxS"
      },
      "source": [
        "### **Add details to DataFram**"
      ]
    },
    {
      "cell_type": "code",
      "metadata": {
        "colab": {
          "base_uri": "https://localhost:8080/",
          "height": 419
        },
        "id": "hlRcDU4qqb3D",
        "outputId": "131979c0-db10-419b-d4b2-74bbacd36ef3"
      },
      "source": [
        "import pandas as pd\n",
        "\n",
        "dict = {\"ID\": question_id, \"Question\": question_name, \"Topic\": topic_name, \"Module\": module_name}\n",
        "df = pd.DataFrame(dict)\n",
        "df"
      ],
      "execution_count": 7,
      "outputs": [
        {
          "output_type": "execute_result",
          "data": {
            "text/html": [
              "<div>\n",
              "<style scoped>\n",
              "    .dataframe tbody tr th:only-of-type {\n",
              "        vertical-align: middle;\n",
              "    }\n",
              "\n",
              "    .dataframe tbody tr th {\n",
              "        vertical-align: top;\n",
              "    }\n",
              "\n",
              "    .dataframe thead th {\n",
              "        text-align: right;\n",
              "    }\n",
              "</style>\n",
              "<table border=\"1\" class=\"dataframe\">\n",
              "  <thead>\n",
              "    <tr style=\"text-align: right;\">\n",
              "      <th></th>\n",
              "      <th>ID</th>\n",
              "      <th>Question</th>\n",
              "      <th>Topic</th>\n",
              "      <th>Module</th>\n",
              "    </tr>\n",
              "  </thead>\n",
              "  <tbody>\n",
              "    <tr>\n",
              "      <th>0</th>\n",
              "      <td>1130</td>\n",
              "      <td>Print Z</td>\n",
              "      <td>Getting Started</td>\n",
              "      <td>Basics of Programming</td>\n",
              "    </tr>\n",
              "    <tr>\n",
              "      <th>1</th>\n",
              "      <td>1131</td>\n",
              "      <td>Grading System</td>\n",
              "      <td>Getting Started</td>\n",
              "      <td>Basics of Programming</td>\n",
              "    </tr>\n",
              "    <tr>\n",
              "      <th>2</th>\n",
              "      <td>1132</td>\n",
              "      <td>Is A Number Prime</td>\n",
              "      <td>Getting Started</td>\n",
              "      <td>Basics of Programming</td>\n",
              "    </tr>\n",
              "    <tr>\n",
              "      <th>3</th>\n",
              "      <td>1133</td>\n",
              "      <td>Print All Primes Till N</td>\n",
              "      <td>Getting Started</td>\n",
              "      <td>Basics of Programming</td>\n",
              "    </tr>\n",
              "    <tr>\n",
              "      <th>4</th>\n",
              "      <td>1134</td>\n",
              "      <td>Print Fibonacci Numbers Till N</td>\n",
              "      <td>Getting Started</td>\n",
              "      <td>Basics of Programming</td>\n",
              "    </tr>\n",
              "    <tr>\n",
              "      <th>...</th>\n",
              "      <td>...</td>\n",
              "      <td>...</td>\n",
              "      <td>...</td>\n",
              "      <td>...</td>\n",
              "    </tr>\n",
              "    <tr>\n",
              "      <th>267</th>\n",
              "      <td>1411</td>\n",
              "      <td>Spread Of Infection</td>\n",
              "      <td>Graphs</td>\n",
              "      <td>Advanced Data Structure</td>\n",
              "    </tr>\n",
              "    <tr>\n",
              "      <th>268</th>\n",
              "      <td>1412</td>\n",
              "      <td>Shortest Path In Weights</td>\n",
              "      <td>Graphs</td>\n",
              "      <td>Advanced Data Structure</td>\n",
              "    </tr>\n",
              "    <tr>\n",
              "      <th>269</th>\n",
              "      <td>1413</td>\n",
              "      <td>Minimum Wire Required To Connect All Pcs</td>\n",
              "      <td>Graphs</td>\n",
              "      <td>Advanced Data Structure</td>\n",
              "    </tr>\n",
              "    <tr>\n",
              "      <th>270</th>\n",
              "      <td>1414</td>\n",
              "      <td>Order Of Compilation</td>\n",
              "      <td>Graphs</td>\n",
              "      <td>Advanced Data Structure</td>\n",
              "    </tr>\n",
              "    <tr>\n",
              "      <th>271</th>\n",
              "      <td>1415</td>\n",
              "      <td>Iterative Depth First Traversal</td>\n",
              "      <td>Graphs</td>\n",
              "      <td>Advanced Data Structure</td>\n",
              "    </tr>\n",
              "  </tbody>\n",
              "</table>\n",
              "<p>272 rows × 4 columns</p>\n",
              "</div>"
            ],
            "text/plain": [
              "       ID  ...                   Module\n",
              "0    1130  ...    Basics of Programming\n",
              "1    1131  ...    Basics of Programming\n",
              "2    1132  ...    Basics of Programming\n",
              "3    1133  ...    Basics of Programming\n",
              "4    1134  ...    Basics of Programming\n",
              "..    ...  ...                      ...\n",
              "267  1411  ...  Advanced Data Structure\n",
              "268  1412  ...  Advanced Data Structure\n",
              "269  1413  ...  Advanced Data Structure\n",
              "270  1414  ...  Advanced Data Structure\n",
              "271  1415  ...  Advanced Data Structure\n",
              "\n",
              "[272 rows x 4 columns]"
            ]
          },
          "metadata": {},
          "execution_count": 7
        }
      ]
    },
    {
      "cell_type": "markdown",
      "metadata": {
        "id": "RKMPdYSerE3Z"
      },
      "source": [
        "# **LeetCode Scraper**"
      ]
    },
    {
      "cell_type": "code",
      "metadata": {
        "colab": {
          "base_uri": "https://localhost:8080/",
          "height": 419
        },
        "id": "E5knqgeprLvv",
        "outputId": "e6b795b2-f81a-4ad7-d9f7-1288318c345a"
      },
      "source": [
        "URL = \"https://leetcode.com/problemset/all/\"\n",
        "page = requests.get(URL)\n",
        "soup = BeautifulSoup(page.content, \"html.parser\")\n",
        "\n",
        "\n",
        "divs = soup.find_all(\"div\", class_=\"group flex items-center m-[10px]\")\n",
        "\n",
        "topic = []\n",
        "que_count = []\n",
        "total = 0\n",
        "\n",
        "for div in divs:\n",
        "    span = div.find_all(\"span\")\n",
        "    name = span[0].text\n",
        "    count = span[1].text\n",
        "\n",
        "    total += int(count)\n",
        "    topic.append(name)\n",
        "    que_count.append(count)\n",
        "\n",
        "topic.append(\"TOTAL\")\n",
        "que_count.append(total)\n",
        "dict = {\"Topic Name\": topic, \"Questions Count\": que_count}\n",
        "df = pd.DataFrame(dict)\n",
        "df\n"
      ],
      "execution_count": 10,
      "outputs": [
        {
          "output_type": "execute_result",
          "data": {
            "text/html": [
              "<div>\n",
              "<style scoped>\n",
              "    .dataframe tbody tr th:only-of-type {\n",
              "        vertical-align: middle;\n",
              "    }\n",
              "\n",
              "    .dataframe tbody tr th {\n",
              "        vertical-align: top;\n",
              "    }\n",
              "\n",
              "    .dataframe thead th {\n",
              "        text-align: right;\n",
              "    }\n",
              "</style>\n",
              "<table border=\"1\" class=\"dataframe\">\n",
              "  <thead>\n",
              "    <tr style=\"text-align: right;\">\n",
              "      <th></th>\n",
              "      <th>Topic Name</th>\n",
              "      <th>Questions Count</th>\n",
              "    </tr>\n",
              "  </thead>\n",
              "  <tbody>\n",
              "    <tr>\n",
              "      <th>0</th>\n",
              "      <td>Array</td>\n",
              "      <td>978</td>\n",
              "    </tr>\n",
              "    <tr>\n",
              "      <th>1</th>\n",
              "      <td>String</td>\n",
              "      <td>482</td>\n",
              "    </tr>\n",
              "    <tr>\n",
              "      <th>2</th>\n",
              "      <td>Dynamic Programming</td>\n",
              "      <td>342</td>\n",
              "    </tr>\n",
              "    <tr>\n",
              "      <th>3</th>\n",
              "      <td>Hash Table</td>\n",
              "      <td>340</td>\n",
              "    </tr>\n",
              "    <tr>\n",
              "      <th>4</th>\n",
              "      <td>Math</td>\n",
              "      <td>328</td>\n",
              "    </tr>\n",
              "    <tr>\n",
              "      <th>...</th>\n",
              "      <td>...</td>\n",
              "      <td>...</td>\n",
              "    </tr>\n",
              "    <tr>\n",
              "      <th>67</th>\n",
              "      <td>Eulerian Circuit</td>\n",
              "      <td>2</td>\n",
              "    </tr>\n",
              "    <tr>\n",
              "      <th>68</th>\n",
              "      <td>Radix Sort</td>\n",
              "      <td>2</td>\n",
              "    </tr>\n",
              "    <tr>\n",
              "      <th>69</th>\n",
              "      <td>Rejection Sampling</td>\n",
              "      <td>2</td>\n",
              "    </tr>\n",
              "    <tr>\n",
              "      <th>70</th>\n",
              "      <td>Biconnected Component</td>\n",
              "      <td>1</td>\n",
              "    </tr>\n",
              "    <tr>\n",
              "      <th>71</th>\n",
              "      <td>TOTAL</td>\n",
              "      <td>5929</td>\n",
              "    </tr>\n",
              "  </tbody>\n",
              "</table>\n",
              "<p>72 rows × 2 columns</p>\n",
              "</div>"
            ],
            "text/plain": [
              "               Topic Name Questions Count\n",
              "0                   Array             978\n",
              "1                  String             482\n",
              "2     Dynamic Programming             342\n",
              "3              Hash Table             340\n",
              "4                    Math             328\n",
              "..                    ...             ...\n",
              "67       Eulerian Circuit               2\n",
              "68             Radix Sort               2\n",
              "69     Rejection Sampling               2\n",
              "70  Biconnected Component               1\n",
              "71                  TOTAL            5929\n",
              "\n",
              "[72 rows x 2 columns]"
            ]
          },
          "metadata": {},
          "execution_count": 10
        }
      ]
    }
  ]
}