{
  "nbformat": 4,
  "nbformat_minor": 0,
  "metadata": {
    "colab": {
      "name": "Python.ipynb",
      "provenance": []
    },
    "kernelspec": {
      "name": "python3",
      "display_name": "Python 3"
    },
    "language_info": {
      "name": "python"
    }
  },
  "cells": [
    {
      "cell_type": "code",
      "metadata": {
        "id": "-VIs7syFPO3V"
      },
      "source": [
        "a = \"Ritik\""
      ],
      "execution_count": null,
      "outputs": []
    },
    {
      "cell_type": "code",
      "metadata": {
        "colab": {
          "base_uri": "https://localhost:8080/"
        },
        "id": "5YJfZtkqQCRV",
        "outputId": "e3fe7ea7-c2e6-4358-b66e-827dccd112f3"
      },
      "source": [
        "print(type(a))"
      ],
      "execution_count": null,
      "outputs": [
        {
          "output_type": "stream",
          "name": "stdout",
          "text": [
            "<class 'str'>\n"
          ]
        }
      ]
    },
    {
      "cell_type": "code",
      "metadata": {
        "id": "dCr_Nq3sQsu5"
      },
      "source": [
        "a = 10"
      ],
      "execution_count": null,
      "outputs": []
    },
    {
      "cell_type": "code",
      "metadata": {
        "colab": {
          "base_uri": "https://localhost:8080/"
        },
        "id": "YZoVWcRLQu_-",
        "outputId": "40b73467-1cbe-4656-8eb5-4cca6d6e8d3d"
      },
      "source": [
        "print(type(a))"
      ],
      "execution_count": null,
      "outputs": [
        {
          "output_type": "stream",
          "name": "stdout",
          "text": [
            "<class 'int'>\n"
          ]
        }
      ]
    },
    {
      "cell_type": "code",
      "metadata": {
        "colab": {
          "base_uri": "https://localhost:8080/"
        },
        "id": "2781PItfQw8Z",
        "outputId": "219a656a-fd61-4240-d3eb-95306c79ee0b"
      },
      "source": [
        "# a = 10\n",
        "# b = 10\n",
        "\n",
        "a, b = 10, 11\n",
        "print(a, b)"
      ],
      "execution_count": null,
      "outputs": [
        {
          "output_type": "stream",
          "name": "stdout",
          "text": [
            "10 11\n"
          ]
        }
      ]
    },
    {
      "cell_type": "code",
      "metadata": {
        "colab": {
          "base_uri": "https://localhost:8080/"
        },
        "id": "bqEqBUdyQ9RA",
        "outputId": "bc3c8590-7bbd-4c94-939e-c54b17c9cfbf"
      },
      "source": [
        "global r\n",
        "r = 10\n",
        "def fun() :\n",
        "  # r = 10\n",
        "  print(r)\n",
        "fun()\n",
        "print(r)"
      ],
      "execution_count": null,
      "outputs": [
        {
          "output_type": "stream",
          "name": "stdout",
          "text": [
            "10\n",
            "10\n"
          ]
        }
      ]
    },
    {
      "cell_type": "code",
      "metadata": {
        "colab": {
          "base_uri": "https://localhost:8080/"
        },
        "id": "tD32SLEpRMxV",
        "outputId": "4e478a7b-c5de-4be4-dc2e-da5bfc7faac5"
      },
      "source": [
        "a = 10\n",
        "def fun2() :\n",
        "  global a\n",
        "  a = 12\n",
        "  print(a)\n",
        "fun2()\n",
        "a = 111\n",
        "print(a)"
      ],
      "execution_count": null,
      "outputs": [
        {
          "output_type": "stream",
          "name": "stdout",
          "text": [
            "12\n",
            "111\n"
          ]
        }
      ]
    },
    {
      "cell_type": "code",
      "metadata": {
        "colab": {
          "base_uri": "https://localhost:8080/"
        },
        "id": "ZgCvS2RkRj0f",
        "outputId": "1ae0d017-8c42-4cfa-8cb7-ffbbfc047bec"
      },
      "source": [
        "print(int(4.5))"
      ],
      "execution_count": null,
      "outputs": [
        {
          "output_type": "stream",
          "name": "stdout",
          "text": [
            "4\n"
          ]
        }
      ]
    },
    {
      "cell_type": "code",
      "metadata": {
        "colab": {
          "base_uri": "https://localhost:8080/"
        },
        "id": "ksDWvm5VSKZC",
        "outputId": "fb2ffaec-98b4-4a0c-84f2-84e009836fad"
      },
      "source": [
        "print(int('8888'))"
      ],
      "execution_count": null,
      "outputs": [
        {
          "output_type": "stream",
          "name": "stdout",
          "text": [
            "8888\n"
          ]
        }
      ]
    },
    {
      "cell_type": "code",
      "metadata": {
        "colab": {
          "base_uri": "https://localhost:8080/",
          "height": 164
        },
        "id": "r4xesKW1SNlM",
        "outputId": "0011a4c6-5b42-46a5-fc33-1f21bc77f6c8"
      },
      "source": [
        "print(int('ddd'))"
      ],
      "execution_count": null,
      "outputs": [
        {
          "output_type": "error",
          "ename": "ValueError",
          "evalue": "ignored",
          "traceback": [
            "\u001b[0;31m---------------------------------------------------------------------------\u001b[0m",
            "\u001b[0;31mValueError\u001b[0m                                Traceback (most recent call last)",
            "\u001b[0;32m<ipython-input-14-54ec0084e8df>\u001b[0m in \u001b[0;36m<module>\u001b[0;34m()\u001b[0m\n\u001b[0;32m----> 1\u001b[0;31m \u001b[0mprint\u001b[0m\u001b[0;34m(\u001b[0m\u001b[0mint\u001b[0m\u001b[0;34m(\u001b[0m\u001b[0;34m'ddd'\u001b[0m\u001b[0;34m)\u001b[0m\u001b[0;34m)\u001b[0m\u001b[0;34m\u001b[0m\u001b[0;34m\u001b[0m\u001b[0m\n\u001b[0m",
            "\u001b[0;31mValueError\u001b[0m: invalid literal for int() with base 10: 'ddd'"
          ]
        }
      ]
    },
    {
      "cell_type": "code",
      "metadata": {
        "colab": {
          "base_uri": "https://localhost:8080/"
        },
        "id": "U-sX4FtuSQNQ",
        "outputId": "031ce7e4-919a-4b2f-c2ad-623daf0b93f2"
      },
      "source": [
        "r = int('8888')\n",
        "print(r)"
      ],
      "execution_count": null,
      "outputs": [
        {
          "output_type": "stream",
          "name": "stdout",
          "text": [
            "8888\n"
          ]
        }
      ]
    },
    {
      "cell_type": "code",
      "metadata": {
        "colab": {
          "base_uri": "https://localhost:8080/"
        },
        "id": "fJhFlPtwSYdk",
        "outputId": "1af663aa-590d-4519-97bd-009ef1218436"
      },
      "source": [
        "r = int(\"9999\")\n",
        "print(r)"
      ],
      "execution_count": null,
      "outputs": [
        {
          "output_type": "stream",
          "name": "stdout",
          "text": [
            "9999\n"
          ]
        }
      ]
    },
    {
      "cell_type": "code",
      "metadata": {
        "colab": {
          "base_uri": "https://localhost:8080/"
        },
        "id": "171W6z9XSe7J",
        "outputId": "bdf44f9a-cadf-4667-c551-f94ee5e0e2e2"
      },
      "source": [
        "s = \"ritik\"\n",
        "print(type(s))\n",
        "s = 'ritik'\n",
        "print(type(s))"
      ],
      "execution_count": null,
      "outputs": [
        {
          "output_type": "stream",
          "name": "stdout",
          "text": [
            "<class 'str'>\n",
            "<class 'str'>\n"
          ]
        }
      ]
    },
    {
      "cell_type": "code",
      "metadata": {
        "colab": {
          "base_uri": "https://localhost:8080/"
        },
        "id": "knGw1wzbSzwm",
        "outputId": "ece55bb6-fcba-4981-d88d-a9829322657c"
      },
      "source": [
        "string = \"Hello, From pepcoding\"\n",
        "print(string[-1])"
      ],
      "execution_count": null,
      "outputs": [
        {
          "output_type": "stream",
          "name": "stdout",
          "text": [
            "g\n"
          ]
        }
      ]
    },
    {
      "cell_type": "code",
      "metadata": {
        "colab": {
          "base_uri": "https://localhost:8080/"
        },
        "id": "NI6Nlk11TBzl",
        "outputId": "15c68f9c-6e3d-47d3-e7fb-393da200ef5f"
      },
      "source": [
        "print(string[1:-1])"
      ],
      "execution_count": null,
      "outputs": [
        {
          "output_type": "stream",
          "name": "stdout",
          "text": [
            "ello, From pepcodin\n"
          ]
        }
      ]
    },
    {
      "cell_type": "code",
      "metadata": {
        "colab": {
          "base_uri": "https://localhost:8080/"
        },
        "id": "Ok8tfxFTTKw1",
        "outputId": "cb26c75b-db6a-4a6b-86ef-ac91079c6b2c"
      },
      "source": [
        "print(string[-7:-2])"
      ],
      "execution_count": null,
      "outputs": [
        {
          "output_type": "stream",
          "name": "stdout",
          "text": [
            "pcodi\n"
          ]
        }
      ]
    },
    {
      "cell_type": "code",
      "metadata": {
        "colab": {
          "base_uri": "https://localhost:8080/"
        },
        "id": "4-pECAU0TTq1",
        "outputId": "b1ed70d5-9711-41c8-ad63-9f498332eaff"
      },
      "source": [
        "print(string[:4])"
      ],
      "execution_count": null,
      "outputs": [
        {
          "output_type": "stream",
          "name": "stdout",
          "text": [
            "Hell\n"
          ]
        }
      ]
    },
    {
      "cell_type": "code",
      "metadata": {
        "colab": {
          "base_uri": "https://localhost:8080/"
        },
        "id": "0dn9Lp6gTgnf",
        "outputId": "5075114b-a309-4bda-d5d3-ae2aa22b5868"
      },
      "source": [
        "print(string[4:])"
      ],
      "execution_count": null,
      "outputs": [
        {
          "output_type": "stream",
          "name": "stdout",
          "text": [
            "o, From pepcoding\n"
          ]
        }
      ]
    },
    {
      "cell_type": "code",
      "metadata": {
        "colab": {
          "base_uri": "https://localhost:8080/"
        },
        "id": "Qt3JUKvtTjqf",
        "outputId": "15c3f20d-82b4-4136-8eae-2858e4c081fb"
      },
      "source": [
        "a = \"hello\"\n",
        "b = 'bye'\n",
        "c = a + b\n",
        "print(c)"
      ],
      "execution_count": null,
      "outputs": [
        {
          "output_type": "stream",
          "name": "stdout",
          "text": [
            "hellobye\n"
          ]
        }
      ]
    },
    {
      "cell_type": "code",
      "metadata": {
        "colab": {
          "base_uri": "https://localhost:8080/",
          "height": 198
        },
        "id": "Ad0j1jSMTsqb",
        "outputId": "417aa5cf-f36b-4c0f-d379-f27805ddc228"
      },
      "source": [
        "d = 9\n",
        "c = a + d\n",
        "print(c)"
      ],
      "execution_count": null,
      "outputs": [
        {
          "output_type": "error",
          "ename": "TypeError",
          "evalue": "ignored",
          "traceback": [
            "\u001b[0;31m---------------------------------------------------------------------------\u001b[0m",
            "\u001b[0;31mTypeError\u001b[0m                                 Traceback (most recent call last)",
            "\u001b[0;32m<ipython-input-24-65fe6da37dba>\u001b[0m in \u001b[0;36m<module>\u001b[0;34m()\u001b[0m\n\u001b[1;32m      1\u001b[0m \u001b[0md\u001b[0m \u001b[0;34m=\u001b[0m \u001b[0;36m9\u001b[0m\u001b[0;34m\u001b[0m\u001b[0;34m\u001b[0m\u001b[0m\n\u001b[0;32m----> 2\u001b[0;31m \u001b[0mc\u001b[0m \u001b[0;34m=\u001b[0m \u001b[0ma\u001b[0m \u001b[0;34m+\u001b[0m \u001b[0md\u001b[0m\u001b[0;34m\u001b[0m\u001b[0;34m\u001b[0m\u001b[0m\n\u001b[0m\u001b[1;32m      3\u001b[0m \u001b[0mprint\u001b[0m\u001b[0;34m(\u001b[0m\u001b[0mc\u001b[0m\u001b[0;34m)\u001b[0m\u001b[0;34m\u001b[0m\u001b[0;34m\u001b[0m\u001b[0m\n",
            "\u001b[0;31mTypeError\u001b[0m: can only concatenate str (not \"int\") to str"
          ]
        }
      ]
    },
    {
      "cell_type": "code",
      "metadata": {
        "colab": {
          "base_uri": "https://localhost:8080/"
        },
        "id": "YV1eXMQhT2Kh",
        "outputId": "02f26b71-9558-41b4-9c40-85f943efb2ab"
      },
      "source": [
        "#format\n",
        "d = 9\n",
        "st = \"Hello {}  times\"\n",
        "st = st.format(d)\n",
        "print(st)"
      ],
      "execution_count": null,
      "outputs": [
        {
          "output_type": "stream",
          "name": "stdout",
          "text": [
            "Hello 9  times\n"
          ]
        }
      ]
    },
    {
      "cell_type": "code",
      "metadata": {
        "colab": {
          "base_uri": "https://localhost:8080/"
        },
        "id": "Jp12NcjZUBrg",
        "outputId": "ed3d71d2-bf50-4aac-8356-221ac678d0fe"
      },
      "source": [
        "# functions\n",
        "\n",
        "def fun3() :\n",
        "  return 10\n",
        "print(fun3())"
      ],
      "execution_count": null,
      "outputs": [
        {
          "output_type": "stream",
          "name": "stdout",
          "text": [
            "10\n"
          ]
        }
      ]
    },
    {
      "cell_type": "code",
      "metadata": {
        "colab": {
          "base_uri": "https://localhost:8080/"
        },
        "id": "B9Q-bSRwU1lA",
        "outputId": "879fa41f-bfc6-4549-a23e-8f8a08076d6c"
      },
      "source": [
        "# print dec 5 - 0\n",
        "\n",
        "def pd(n) : \n",
        "  if n < 0 :\n",
        "    return\n",
        "  \n",
        "  print(n)\n",
        "  pd(n - 1)\n",
        "\n",
        "pd(5)"
      ],
      "execution_count": null,
      "outputs": [
        {
          "output_type": "stream",
          "name": "stdout",
          "text": [
            "5\n",
            "4\n",
            "3\n",
            "2\n",
            "1\n",
            "0\n"
          ]
        }
      ]
    },
    {
      "cell_type": "code",
      "metadata": {
        "colab": {
          "base_uri": "https://localhost:8080/"
        },
        "id": "EIS_2nuTVPPJ",
        "outputId": "16cf6fc2-3367-44ea-b5b1-a67eca4d7ef6"
      },
      "source": [
        "# lambda func\n",
        "\n",
        "\n",
        "x = lambda a,b,c : a*b*c\n",
        "\n",
        "c = x(10,3,2)\n",
        "print(c)"
      ],
      "execution_count": null,
      "outputs": [
        {
          "output_type": "stream",
          "name": "stdout",
          "text": [
            "60\n"
          ]
        }
      ]
    },
    {
      "cell_type": "code",
      "metadata": {
        "colab": {
          "base_uri": "https://localhost:8080/"
        },
        "id": "9hTekCvFWcGq",
        "outputId": "92746d13-5db4-458b-9f63-dd3e29cb8553"
      },
      "source": [
        "def f(a) :\n",
        "  return lambda n : n*a\n",
        "\n",
        "c = f(10)\n",
        "print(c)"
      ],
      "execution_count": null,
      "outputs": [
        {
          "output_type": "stream",
          "name": "stdout",
          "text": [
            "<function f.<locals>.<lambda> at 0x7efd13948680>\n"
          ]
        }
      ]
    },
    {
      "cell_type": "code",
      "metadata": {
        "colab": {
          "base_uri": "https://localhost:8080/"
        },
        "id": "ufx2lOXcWz46",
        "outputId": "f20e3537-c563-47b9-c7c6-6fda5c7f0108"
      },
      "source": [
        "d = c(9)\n",
        "print(d)"
      ],
      "execution_count": null,
      "outputs": [
        {
          "output_type": "stream",
          "name": "stdout",
          "text": [
            "90\n"
          ]
        }
      ]
    },
    {
      "cell_type": "code",
      "metadata": {
        "colab": {
          "base_uri": "https://localhost:8080/"
        },
        "id": "KY69MsxiW5MQ",
        "outputId": "eaa84acc-a034-4fb6-cd9b-02db90fce4c6"
      },
      "source": [
        "n = 5\n",
        "\n",
        "if n > 5 :\n",
        "  print(n)\n",
        "elif n == 5 :\n",
        "  print(n)\n",
        "else :\n",
        "  print(\"else\")"
      ],
      "execution_count": null,
      "outputs": [
        {
          "output_type": "stream",
          "name": "stdout",
          "text": [
            "5\n"
          ]
        }
      ]
    },
    {
      "cell_type": "code",
      "metadata": {
        "colab": {
          "base_uri": "https://localhost:8080/"
        },
        "id": "kuMyADDPXzQm",
        "outputId": "5986e4f5-9178-45e1-d9aa-e5f38b4ab8e4"
      },
      "source": [
        "# for loops\n",
        "\n",
        "a = [\"Ritik\", \"Rohan\", \"Rahul\"]\n",
        "for ele in a :\n",
        "  print(ele)"
      ],
      "execution_count": null,
      "outputs": [
        {
          "output_type": "stream",
          "name": "stdout",
          "text": [
            "Ritik\n",
            "Rohan\n",
            "Rahul\n"
          ]
        }
      ]
    },
    {
      "cell_type": "code",
      "metadata": {
        "colab": {
          "base_uri": "https://localhost:8080/"
        },
        "id": "l_RDZaNjZKrf",
        "outputId": "0a59e765-ea2f-429f-dd39-d6822cea8544"
      },
      "source": [
        "for i in range(len(a)) :\n",
        "  print(a[i])"
      ],
      "execution_count": null,
      "outputs": [
        {
          "output_type": "stream",
          "name": "stdout",
          "text": [
            "Ritik\n",
            "Rohan\n",
            "Rahul\n"
          ]
        }
      ]
    },
    {
      "cell_type": "code",
      "metadata": {
        "colab": {
          "base_uri": "https://localhost:8080/"
        },
        "id": "m0XJy_ErZZLk",
        "outputId": "b401eabc-d1a2-47b4-e613-cbab034848db"
      },
      "source": [
        "for i in range(10) :\n",
        "  print(i)"
      ],
      "execution_count": null,
      "outputs": [
        {
          "output_type": "stream",
          "name": "stdout",
          "text": [
            "0\n",
            "1\n",
            "2\n",
            "3\n",
            "4\n",
            "5\n",
            "6\n",
            "7\n",
            "8\n",
            "9\n"
          ]
        }
      ]
    },
    {
      "cell_type": "code",
      "metadata": {
        "colab": {
          "base_uri": "https://localhost:8080/"
        },
        "id": "fHI4i_T8ZdZC",
        "outputId": "15eae25a-f3d6-4eb4-f107-1ede8ad51614"
      },
      "source": [
        "i = 5\n",
        "while i > 0 :\n",
        "  print(i)\n",
        "  i -= 1\n",
        "else :\n",
        "  print(\"finished\")"
      ],
      "execution_count": null,
      "outputs": [
        {
          "output_type": "stream",
          "name": "stdout",
          "text": [
            "5\n",
            "4\n",
            "3\n",
            "2\n",
            "1\n",
            "finished\n"
          ]
        }
      ]
    },
    {
      "cell_type": "code",
      "metadata": {
        "colab": {
          "base_uri": "https://localhost:8080/"
        },
        "id": "eSUBhyBTZxq4",
        "outputId": "ffc7533c-294a-40ca-ba71-491d0338dc62"
      },
      "source": [
        "for i in range(5) :\n",
        "  print(i)\n",
        "  if(i == 3) :\n",
        "    break\n",
        "else :\n",
        "  print(\"finished\")"
      ],
      "execution_count": null,
      "outputs": [
        {
          "output_type": "stream",
          "name": "stdout",
          "text": [
            "0\n",
            "1\n",
            "2\n",
            "3\n"
          ]
        }
      ]
    },
    {
      "cell_type": "code",
      "metadata": {
        "colab": {
          "base_uri": "https://localhost:8080/"
        },
        "id": "-dtsf3ZDaHAi",
        "outputId": "601cdbf8-cd3b-4e02-cb28-cb6f32604832"
      },
      "source": [
        "# List, tuple, set, dict\n",
        "\n",
        "\n",
        "a = [\"apple\", \"banana\", \"cherry\"]\n",
        "print(type(a))"
      ],
      "execution_count": null,
      "outputs": [
        {
          "output_type": "stream",
          "name": "stdout",
          "text": [
            "<class 'list'>\n"
          ]
        }
      ]
    },
    {
      "cell_type": "code",
      "metadata": {
        "colab": {
          "base_uri": "https://localhost:8080/"
        },
        "id": "2xkOXnKJa--5",
        "outputId": "2fdef424-15ee-41d9-d65e-a512269acaad"
      },
      "source": [
        "b = list((\"apple\", \"banana\", \"cherry\", \"apple\"))\n",
        "print(b)"
      ],
      "execution_count": null,
      "outputs": [
        {
          "output_type": "stream",
          "name": "stdout",
          "text": [
            "['apple', 'banana', 'cherry', 'apple']\n"
          ]
        }
      ]
    },
    {
      "cell_type": "code",
      "metadata": {
        "colab": {
          "base_uri": "https://localhost:8080/"
        },
        "id": "I81ToktxbK0c",
        "outputId": "008a8e78-b7ec-4dab-fece-1f1e814834df"
      },
      "source": [
        "print(r)"
      ],
      "execution_count": null,
      "outputs": [
        {
          "output_type": "stream",
          "name": "stdout",
          "text": [
            "9999\n"
          ]
        }
      ]
    },
    {
      "cell_type": "code",
      "metadata": {
        "colab": {
          "base_uri": "https://localhost:8080/"
        },
        "id": "X-WuiRbfbSlA",
        "outputId": "770987d9-254b-4c81-f0e1-9730d9bac472"
      },
      "source": [
        "print(b[0:3])"
      ],
      "execution_count": null,
      "outputs": [
        {
          "output_type": "stream",
          "name": "stdout",
          "text": [
            "['apple', 'banana', 'cherry']\n"
          ]
        }
      ]
    },
    {
      "cell_type": "code",
      "metadata": {
        "colab": {
          "base_uri": "https://localhost:8080/"
        },
        "id": "5SgBU2agbhe0",
        "outputId": "8ad67f3f-bdb4-4340-80d9-d713a46ae755"
      },
      "source": [
        "for items in b :\n",
        "  print(items)"
      ],
      "execution_count": null,
      "outputs": [
        {
          "output_type": "stream",
          "name": "stdout",
          "text": [
            "apple\n",
            "banana\n",
            "cherry\n",
            "apple\n"
          ]
        }
      ]
    },
    {
      "cell_type": "code",
      "metadata": {
        "colab": {
          "base_uri": "https://localhost:8080/"
        },
        "id": "B4Zd44c9buuO",
        "outputId": "1852cd35-65f4-4d64-c822-af52c3406481"
      },
      "source": [
        "b[1] = \"apple\"\n",
        "print(b)"
      ],
      "execution_count": null,
      "outputs": [
        {
          "output_type": "stream",
          "name": "stdout",
          "text": [
            "['apple', 'apple', 'cherry', 'apple']\n"
          ]
        }
      ]
    },
    {
      "cell_type": "code",
      "metadata": {
        "colab": {
          "base_uri": "https://localhost:8080/"
        },
        "id": "J4OFxIimbztv",
        "outputId": "81575bf9-7ea3-41f9-956f-dec740381d47"
      },
      "source": [
        "c = b\n",
        "print(c)"
      ],
      "execution_count": null,
      "outputs": [
        {
          "output_type": "stream",
          "name": "stdout",
          "text": [
            "['apple', 'apple', 'cherry', 'apple']\n"
          ]
        }
      ]
    },
    {
      "cell_type": "code",
      "metadata": {
        "colab": {
          "base_uri": "https://localhost:8080/"
        },
        "id": "qj0hIbskcA4d",
        "outputId": "c22dcd3f-b24c-4932-c83a-53b2871b4c10"
      },
      "source": [
        "c[2] = \"apple\"\n",
        "print(id(c))"
      ],
      "execution_count": null,
      "outputs": [
        {
          "output_type": "stream",
          "name": "stdout",
          "text": [
            "139625420381952\n"
          ]
        }
      ]
    },
    {
      "cell_type": "code",
      "metadata": {
        "colab": {
          "base_uri": "https://localhost:8080/"
        },
        "id": "EOutT3WLcEK3",
        "outputId": "c34727c7-498f-4594-d9d5-b755bf6f5550"
      },
      "source": [
        "print(id(b))"
      ],
      "execution_count": null,
      "outputs": [
        {
          "output_type": "stream",
          "name": "stdout",
          "text": [
            "139625420381952\n"
          ]
        }
      ]
    },
    {
      "cell_type": "code",
      "metadata": {
        "colab": {
          "base_uri": "https://localhost:8080/"
        },
        "id": "jx6Eyl2vcGJZ",
        "outputId": "e2d10206-b5b8-4d72-c5ab-7aa4f2560298"
      },
      "source": [
        "d = b.copy()\n",
        "print(id(d))"
      ],
      "execution_count": null,
      "outputs": [
        {
          "output_type": "stream",
          "name": "stdout",
          "text": [
            "139625489536976\n"
          ]
        }
      ]
    },
    {
      "cell_type": "code",
      "metadata": {
        "colab": {
          "base_uri": "https://localhost:8080/"
        },
        "id": "n0CEs-mRcROG",
        "outputId": "c4664259-ba7c-455e-ab31-0f75fcf1e333"
      },
      "source": [
        "d[0] = \"banana\"\n",
        "print(b, d)"
      ],
      "execution_count": null,
      "outputs": [
        {
          "output_type": "stream",
          "name": "stdout",
          "text": [
            "['apple', 'apple', 'apple', 'apple'] ['banana', 'apple', 'apple', 'apple']\n"
          ]
        }
      ]
    },
    {
      "cell_type": "code",
      "metadata": {
        "colab": {
          "base_uri": "https://localhost:8080/"
        },
        "id": "0X0VTi6hcVu3",
        "outputId": "388885b6-8b03-46bc-ee74-8190c236bcb4"
      },
      "source": [
        "a.append(\"mango\")\n",
        "print(a)"
      ],
      "execution_count": null,
      "outputs": [
        {
          "output_type": "stream",
          "name": "stdout",
          "text": [
            "['apple', 'banana', 'cherry', 'mango']\n"
          ]
        }
      ]
    },
    {
      "cell_type": "code",
      "metadata": {
        "colab": {
          "base_uri": "https://localhost:8080/"
        },
        "id": "8Hqp4EDQdE70",
        "outputId": "c255bd60-86f9-4edb-a36a-c01f3468c18b"
      },
      "source": [
        "a.extend(d)\n",
        "print(a)"
      ],
      "execution_count": null,
      "outputs": [
        {
          "output_type": "stream",
          "name": "stdout",
          "text": [
            "['apple', 'banana', 'cherry', 'mango', 'banana', 'apple', 'apple', 'apple']\n"
          ]
        }
      ]
    },
    {
      "cell_type": "code",
      "metadata": {
        "colab": {
          "base_uri": "https://localhost:8080/"
        },
        "id": "PSmQl9uOdIlR",
        "outputId": "8cbb3f43-828f-4827-b1f4-b9a247033b81"
      },
      "source": [
        "a = a + d\n",
        "print(a)"
      ],
      "execution_count": null,
      "outputs": [
        {
          "output_type": "stream",
          "name": "stdout",
          "text": [
            "['apple', 'banana', 'cherry', 'mango', 'banana', 'apple', 'apple', 'apple', 'banana', 'apple', 'apple', 'apple']\n"
          ]
        }
      ]
    },
    {
      "cell_type": "code",
      "metadata": {
        "id": "-VI-AgyvdLgp"
      },
      "source": [
        "d.insert(1, \"grapes\")"
      ],
      "execution_count": null,
      "outputs": []
    },
    {
      "cell_type": "code",
      "metadata": {
        "colab": {
          "base_uri": "https://localhost:8080/"
        },
        "id": "yiboOEIHdRrM",
        "outputId": "425018d6-910c-4a51-a81b-33e3bd1027bf"
      },
      "source": [
        "print(d)"
      ],
      "execution_count": null,
      "outputs": [
        {
          "output_type": "stream",
          "name": "stdout",
          "text": [
            "['banana', 'grapes', 'apple', 'apple', 'apple']\n"
          ]
        }
      ]
    },
    {
      "cell_type": "code",
      "metadata": {
        "colab": {
          "base_uri": "https://localhost:8080/"
        },
        "id": "ubsGUSPzdSc5",
        "outputId": "afc35fac-e194-497b-d14c-c671985411e5"
      },
      "source": [
        "d.insert(1, [\"grapes\", \"oranges\"])\n",
        "print(d)"
      ],
      "execution_count": null,
      "outputs": [
        {
          "output_type": "stream",
          "name": "stdout",
          "text": [
            "['banana', ['grapes', 'oranges'], 'grapes', 'apple', 'apple', 'apple']\n"
          ]
        }
      ]
    },
    {
      "cell_type": "code",
      "metadata": {
        "colab": {
          "base_uri": "https://localhost:8080/"
        },
        "id": "TINJBSLGdgC4",
        "outputId": "770a0145-11ef-41de-a5cf-9ffb09e66766"
      },
      "source": [
        "d.append(10)\n",
        "print(d)"
      ],
      "execution_count": null,
      "outputs": [
        {
          "output_type": "stream",
          "name": "stdout",
          "text": [
            "['banana', ['grapes', 'oranges'], 'grapes', 'apple', 'apple', 'apple', 10]\n"
          ]
        }
      ]
    },
    {
      "cell_type": "code",
      "metadata": {
        "id": "psFuq7wddrVm"
      },
      "source": [
        "a.sort()"
      ],
      "execution_count": null,
      "outputs": []
    },
    {
      "cell_type": "code",
      "metadata": {
        "colab": {
          "base_uri": "https://localhost:8080/"
        },
        "id": "HBhO3dfRd9ET",
        "outputId": "cccc0181-d47c-4e10-bd4b-c1c53892c00f"
      },
      "source": [
        "print(a)"
      ],
      "execution_count": null,
      "outputs": [
        {
          "output_type": "stream",
          "name": "stdout",
          "text": [
            "['apple', 'apple', 'apple', 'apple', 'apple', 'apple', 'apple', 'banana', 'banana', 'banana', 'cherry', 'mango']\n"
          ]
        }
      ]
    },
    {
      "cell_type": "code",
      "metadata": {
        "colab": {
          "base_uri": "https://localhost:8080/"
        },
        "id": "SY5aUc-ieIO-",
        "outputId": "9d694a49-aa7b-4b14-95ae-b8ce40f0cb9c"
      },
      "source": [
        "try :\n",
        "  print(ritiik)\n",
        "except TypeError :\n",
        "  print(\"222\")\n",
        "except :\n",
        "  print(\"4444\")\n",
        "finally :\n",
        "  print(\"done\")\n",
        "# d.sort()"
      ],
      "execution_count": null,
      "outputs": [
        {
          "output_type": "stream",
          "name": "stdout",
          "text": [
            "4444\n",
            "done\n"
          ]
        }
      ]
    },
    {
      "cell_type": "code",
      "metadata": {
        "id": "g4FMrsjqeX_9"
      },
      "source": [
        ""
      ],
      "execution_count": null,
      "outputs": []
    },
    {
      "cell_type": "code",
      "metadata": {
        "colab": {
          "base_uri": "https://localhost:8080/"
        },
        "id": "9NC6oUPHhzR7",
        "outputId": "eef2cf3f-6a1d-469c-b10d-a02c4dd91d4a"
      },
      "source": [
        "class abc :\n",
        "  a\n",
        "  def __init__(ritik) :\n",
        "    ritik.a = 10\n",
        "\n",
        "  def fun(self, num) :\n",
        "    self.a = num\n",
        "\n",
        "  def fun2() :\n",
        "    print(\"hello\")\n",
        "\n",
        "r = abc()\n",
        "print(r.a)\n",
        "r.fun(8)\n",
        "print(r.a)\n",
        "abc.fun2()"
      ],
      "execution_count": null,
      "outputs": [
        {
          "output_type": "stream",
          "name": "stdout",
          "text": [
            "10\n",
            "8\n",
            "hello\n"
          ]
        }
      ]
    },
    {
      "cell_type": "code",
      "metadata": {
        "colab": {
          "base_uri": "https://localhost:8080/"
        },
        "id": "TTT91uPvpb0T",
        "outputId": "4f6b4879-2347-4f0a-aae5-2cc433207ddd"
      },
      "source": [
        "r.name = \"Ritik\"\n",
        "print(r.name)"
      ],
      "execution_count": null,
      "outputs": [
        {
          "output_type": "stream",
          "name": "stdout",
          "text": [
            "Ritik\n"
          ]
        }
      ]
    },
    {
      "cell_type": "code",
      "metadata": {
        "colab": {
          "base_uri": "https://localhost:8080/",
          "height": 164
        },
        "id": "hD3VyWpEq9A6",
        "outputId": "695679d6-0bc7-4418-cfc0-66e0ade6264b"
      },
      "source": [
        "r.fun2()"
      ],
      "execution_count": null,
      "outputs": [
        {
          "output_type": "error",
          "ename": "TypeError",
          "evalue": "ignored",
          "traceback": [
            "\u001b[0;31m---------------------------------------------------------------------------\u001b[0m",
            "\u001b[0;31mTypeError\u001b[0m                                 Traceback (most recent call last)",
            "\u001b[0;32m<ipython-input-101-e9a95aafc975>\u001b[0m in \u001b[0;36m<module>\u001b[0;34m()\u001b[0m\n\u001b[0;32m----> 1\u001b[0;31m \u001b[0mr\u001b[0m\u001b[0;34m.\u001b[0m\u001b[0mfun2\u001b[0m\u001b[0;34m(\u001b[0m\u001b[0;34m)\u001b[0m\u001b[0;34m\u001b[0m\u001b[0;34m\u001b[0m\u001b[0m\n\u001b[0m",
            "\u001b[0;31mTypeError\u001b[0m: fun2() takes 0 positional arguments but 1 was given"
          ]
        }
      ]
    },
    {
      "cell_type": "code",
      "metadata": {
        "colab": {
          "base_uri": "https://localhost:8080/",
          "height": 181
        },
        "id": "BHdwsbA5rKlA",
        "outputId": "e35b7046-8347-48f3-bb9d-c6ec4eca878a"
      },
      "source": [
        "d = abc()\n",
        "print(d.name)"
      ],
      "execution_count": null,
      "outputs": [
        {
          "output_type": "error",
          "ename": "AttributeError",
          "evalue": "ignored",
          "traceback": [
            "\u001b[0;31m---------------------------------------------------------------------------\u001b[0m",
            "\u001b[0;31mAttributeError\u001b[0m                            Traceback (most recent call last)",
            "\u001b[0;32m<ipython-input-102-2af0b23abed8>\u001b[0m in \u001b[0;36m<module>\u001b[0;34m()\u001b[0m\n\u001b[1;32m      1\u001b[0m \u001b[0md\u001b[0m \u001b[0;34m=\u001b[0m \u001b[0mabc\u001b[0m\u001b[0;34m(\u001b[0m\u001b[0;34m)\u001b[0m\u001b[0;34m\u001b[0m\u001b[0;34m\u001b[0m\u001b[0m\n\u001b[0;32m----> 2\u001b[0;31m \u001b[0mprint\u001b[0m\u001b[0;34m(\u001b[0m\u001b[0md\u001b[0m\u001b[0;34m.\u001b[0m\u001b[0mname\u001b[0m\u001b[0;34m)\u001b[0m\u001b[0;34m\u001b[0m\u001b[0;34m\u001b[0m\u001b[0m\n\u001b[0m",
            "\u001b[0;31mAttributeError\u001b[0m: 'abc' object has no attribute 'name'"
          ]
        }
      ]
    },
    {
      "cell_type": "code",
      "metadata": {
        "colab": {
          "base_uri": "https://localhost:8080/"
        },
        "id": "3kBZJx9grV4s",
        "outputId": "a141e5f7-7379-4ba5-f1fe-a1ffde892969"
      },
      "source": [
        "print(r)"
      ],
      "execution_count": null,
      "outputs": [
        {
          "output_type": "stream",
          "name": "stdout",
          "text": [
            "<__main__.abc object at 0x7efd1396ced0>\n"
          ]
        }
      ]
    },
    {
      "cell_type": "code",
      "metadata": {
        "colab": {
          "base_uri": "https://localhost:8080/"
        },
        "id": "q1AIgwOYrX-V",
        "outputId": "665edfdc-e76f-457a-9583-a07615c106c8"
      },
      "source": [
        "print(r.a, r.name)"
      ],
      "execution_count": null,
      "outputs": [
        {
          "output_type": "stream",
          "name": "stdout",
          "text": [
            "8 Ritik\n"
          ]
        }
      ]
    },
    {
      "cell_type": "code",
      "metadata": {
        "colab": {
          "base_uri": "https://localhost:8080/"
        },
        "id": "YIKjZi_GrcKF",
        "outputId": "4a3c22b8-b32e-41f6-e7b1-086a276f4c18"
      },
      "source": [
        "class xyz :\n",
        "  def __init__(self) :\n",
        "    self.name = \"ritik\"\n",
        "    self.team = \"pep\"\n",
        "\n",
        "  def pri(self) :\n",
        "    print(self.name, self.team, self.age)\n",
        "\n",
        "a = xyz()\n",
        "a.age = 9\n",
        "a.pri()  "
      ],
      "execution_count": 115,
      "outputs": [
        {
          "output_type": "stream",
          "name": "stdout",
          "text": [
            "ritik pep 9\n"
          ]
        }
      ]
    },
    {
      "cell_type": "code",
      "metadata": {
        "colab": {
          "base_uri": "https://localhost:8080/"
        },
        "id": "zgUtDZbYr6-M",
        "outputId": "f6cde2df-619d-4f44-a5a0-aaaf3a797141"
      },
      "source": [
        "class rr(xyz) :\n",
        "  def __init__(self) :\n",
        "    super().__init__()\n",
        "    self.age = 20\n",
        "\n",
        "r = rr()\n",
        "r.pri()"
      ],
      "execution_count": 116,
      "outputs": [
        {
          "output_type": "stream",
          "name": "stdout",
          "text": [
            "ritik pep 20\n"
          ]
        }
      ]
    },
    {
      "cell_type": "code",
      "metadata": {
        "id": "QRHb1cmJtYD_",
        "colab": {
          "base_uri": "https://localhost:8080/"
        },
        "outputId": "3e85ed92-d924-4a13-dd53-e824f3d3b906"
      },
      "source": [
        "class m :\n",
        "  def __init__(self, name) :\n",
        "    self.name = name\n",
        "\n",
        "g = m(\"Ritik\")\n",
        "print(g.name)"
      ],
      "execution_count": 117,
      "outputs": [
        {
          "output_type": "stream",
          "name": "stdout",
          "text": [
            "Ritik\n"
          ]
        }
      ]
    },
    {
      "cell_type": "code",
      "metadata": {
        "id": "NNbhO-0VvlMW"
      },
      "source": [
        ""
      ],
      "execution_count": null,
      "outputs": []
    }
  ]
}