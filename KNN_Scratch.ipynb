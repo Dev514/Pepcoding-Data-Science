{
  "nbformat": 4,
  "nbformat_minor": 0,
  "metadata": {
    "colab": {
      "name": "KNN_Scratch",
      "provenance": [],
      "authorship_tag": "ABX9TyM7tas+KfqY4dTOjJwB9m0X",
      "include_colab_link": true
    },
    "kernelspec": {
      "name": "ir",
      "display_name": "R"
    },
    "language_info": {
      "name": "R"
    }
  },
  "cells": [
    {
      "cell_type": "markdown",
      "metadata": {
        "id": "view-in-github",
        "colab_type": "text"
      },
      "source": [
        "<a href=\"https://colab.research.google.com/github/Dev514/Pepcoding-Data-Science/blob/main/KNN_Scratch.ipynb\" target=\"_parent\"><img src=\"https://colab.research.google.com/assets/colab-badge.svg\" alt=\"Open In Colab\"/></a>"
      ]
    },
    {
      "cell_type": "code",
      "execution_count": null,
      "metadata": {
        "id": "G45HF3FCLEkL"
      },
      "outputs": [],
      "source": [
        "data= read.csv(\"https://raw.githubusercontent.com/elakiricoder/Gender_Classification_Support_Vector_Machines_SVM/main/gender_classification_v7.csv\")"
      ]
    },
    {
      "cell_type": "code",
      "source": [
        "head(data)"
      ],
      "metadata": {
        "colab": {
          "base_uri": "https://localhost:8080/",
          "height": 286
        },
        "id": "9ENrB2oLLO2f",
        "outputId": "81add6a3-4249-44a2-8ff4-15657baed6a8"
      },
      "execution_count": null,
      "outputs": [
        {
          "output_type": "display_data",
          "data": {
            "text/plain": [
              "  long_hair forehead_width_cm forehead_height_cm nose_wide nose_long lips_thin\n",
              "1 1         11.8              6.1                1         0         1        \n",
              "2 0         14.0              5.4                0         0         1        \n",
              "3 0         11.8              6.3                1         1         1        \n",
              "4 0         14.4              6.1                0         1         1        \n",
              "5 1         13.5              5.9                0         0         0        \n",
              "6 1         13.0              6.8                1         1         1        \n",
              "  distance_nose_to_lip_long Male\n",
              "1 1                         1   \n",
              "2 0                         0   \n",
              "3 1                         1   \n",
              "4 1                         1   \n",
              "5 0                         0   \n",
              "6 1                         1   "
            ],
            "text/latex": "A data.frame: 6 × 8\n\\begin{tabular}{r|llllllll}\n  & long\\_hair & forehead\\_width\\_cm & forehead\\_height\\_cm & nose\\_wide & nose\\_long & lips\\_thin & distance\\_nose\\_to\\_lip\\_long & Male\\\\\n  & <int> & <dbl> & <dbl> & <int> & <int> & <int> & <int> & <int>\\\\\n\\hline\n\t1 & 1 & 11.8 & 6.1 & 1 & 0 & 1 & 1 & 1\\\\\n\t2 & 0 & 14.0 & 5.4 & 0 & 0 & 1 & 0 & 0\\\\\n\t3 & 0 & 11.8 & 6.3 & 1 & 1 & 1 & 1 & 1\\\\\n\t4 & 0 & 14.4 & 6.1 & 0 & 1 & 1 & 1 & 1\\\\\n\t5 & 1 & 13.5 & 5.9 & 0 & 0 & 0 & 0 & 0\\\\\n\t6 & 1 & 13.0 & 6.8 & 1 & 1 & 1 & 1 & 1\\\\\n\\end{tabular}\n",
            "text/markdown": "\nA data.frame: 6 × 8\n\n| <!--/--> | long_hair &lt;int&gt; | forehead_width_cm &lt;dbl&gt; | forehead_height_cm &lt;dbl&gt; | nose_wide &lt;int&gt; | nose_long &lt;int&gt; | lips_thin &lt;int&gt; | distance_nose_to_lip_long &lt;int&gt; | Male &lt;int&gt; |\n|---|---|---|---|---|---|---|---|---|\n| 1 | 1 | 11.8 | 6.1 | 1 | 0 | 1 | 1 | 1 |\n| 2 | 0 | 14.0 | 5.4 | 0 | 0 | 1 | 0 | 0 |\n| 3 | 0 | 11.8 | 6.3 | 1 | 1 | 1 | 1 | 1 |\n| 4 | 0 | 14.4 | 6.1 | 0 | 1 | 1 | 1 | 1 |\n| 5 | 1 | 13.5 | 5.9 | 0 | 0 | 0 | 0 | 0 |\n| 6 | 1 | 13.0 | 6.8 | 1 | 1 | 1 | 1 | 1 |\n\n",
            "text/html": [
              "<table class=\"dataframe\">\n",
              "<caption>A data.frame: 6 × 8</caption>\n",
              "<thead>\n",
              "\t<tr><th></th><th scope=col>long_hair</th><th scope=col>forehead_width_cm</th><th scope=col>forehead_height_cm</th><th scope=col>nose_wide</th><th scope=col>nose_long</th><th scope=col>lips_thin</th><th scope=col>distance_nose_to_lip_long</th><th scope=col>Male</th></tr>\n",
              "\t<tr><th></th><th scope=col>&lt;int&gt;</th><th scope=col>&lt;dbl&gt;</th><th scope=col>&lt;dbl&gt;</th><th scope=col>&lt;int&gt;</th><th scope=col>&lt;int&gt;</th><th scope=col>&lt;int&gt;</th><th scope=col>&lt;int&gt;</th><th scope=col>&lt;int&gt;</th></tr>\n",
              "</thead>\n",
              "<tbody>\n",
              "\t<tr><th scope=row>1</th><td>1</td><td>11.8</td><td>6.1</td><td>1</td><td>0</td><td>1</td><td>1</td><td>1</td></tr>\n",
              "\t<tr><th scope=row>2</th><td>0</td><td>14.0</td><td>5.4</td><td>0</td><td>0</td><td>1</td><td>0</td><td>0</td></tr>\n",
              "\t<tr><th scope=row>3</th><td>0</td><td>11.8</td><td>6.3</td><td>1</td><td>1</td><td>1</td><td>1</td><td>1</td></tr>\n",
              "\t<tr><th scope=row>4</th><td>0</td><td>14.4</td><td>6.1</td><td>0</td><td>1</td><td>1</td><td>1</td><td>1</td></tr>\n",
              "\t<tr><th scope=row>5</th><td>1</td><td>13.5</td><td>5.9</td><td>0</td><td>0</td><td>0</td><td>0</td><td>0</td></tr>\n",
              "\t<tr><th scope=row>6</th><td>1</td><td>13.0</td><td>6.8</td><td>1</td><td>1</td><td>1</td><td>1</td><td>1</td></tr>\n",
              "</tbody>\n",
              "</table>\n"
            ]
          },
          "metadata": {}
        }
      ]
    },
    {
      "cell_type": "code",
      "source": [
        "dim(data)"
      ],
      "metadata": {
        "colab": {
          "base_uri": "https://localhost:8080/",
          "height": 35
        },
        "id": "XT92NRN3LiqR",
        "outputId": "c1d3b7d5-0f6a-47d5-da58-b275f91c1473"
      },
      "execution_count": null,
      "outputs": [
        {
          "output_type": "display_data",
          "data": {
            "text/plain": [
              "[1] 5001    8"
            ],
            "text/latex": "\\begin{enumerate*}\n\\item 5001\n\\item 8\n\\end{enumerate*}\n",
            "text/markdown": "1. 5001\n2. 8\n\n\n",
            "text/html": [
              "<style>\n",
              ".list-inline {list-style: none; margin:0; padding: 0}\n",
              ".list-inline>li {display: inline-block}\n",
              ".list-inline>li:not(:last-child)::after {content: \"\\00b7\"; padding: 0 .5ex}\n",
              "</style>\n",
              "<ol class=list-inline><li>5001</li><li>8</li></ol>\n"
            ]
          },
          "metadata": {}
        }
      ]
    },
    {
      "cell_type": "code",
      "source": [
        "x=data[,-8]"
      ],
      "metadata": {
        "id": "hlAFB9yQLm-U"
      },
      "execution_count": null,
      "outputs": []
    },
    {
      "cell_type": "code",
      "source": [
        "head(x)"
      ],
      "metadata": {
        "colab": {
          "base_uri": "https://localhost:8080/",
          "height": 286
        },
        "id": "_7HS7eMILzCL",
        "outputId": "d0cadf50-a247-4eff-acd5-6963cf8ab6fc"
      },
      "execution_count": null,
      "outputs": [
        {
          "output_type": "display_data",
          "data": {
            "text/plain": [
              "  long_hair forehead_width_cm forehead_height_cm nose_wide nose_long lips_thin\n",
              "1 1         11.8              6.1                1         0         1        \n",
              "2 0         14.0              5.4                0         0         1        \n",
              "3 0         11.8              6.3                1         1         1        \n",
              "4 0         14.4              6.1                0         1         1        \n",
              "5 1         13.5              5.9                0         0         0        \n",
              "6 1         13.0              6.8                1         1         1        \n",
              "  distance_nose_to_lip_long\n",
              "1 1                        \n",
              "2 0                        \n",
              "3 1                        \n",
              "4 1                        \n",
              "5 0                        \n",
              "6 1                        "
            ],
            "text/latex": "A data.frame: 6 × 7\n\\begin{tabular}{r|lllllll}\n  & long\\_hair & forehead\\_width\\_cm & forehead\\_height\\_cm & nose\\_wide & nose\\_long & lips\\_thin & distance\\_nose\\_to\\_lip\\_long\\\\\n  & <int> & <dbl> & <dbl> & <int> & <int> & <int> & <int>\\\\\n\\hline\n\t1 & 1 & 11.8 & 6.1 & 1 & 0 & 1 & 1\\\\\n\t2 & 0 & 14.0 & 5.4 & 0 & 0 & 1 & 0\\\\\n\t3 & 0 & 11.8 & 6.3 & 1 & 1 & 1 & 1\\\\\n\t4 & 0 & 14.4 & 6.1 & 0 & 1 & 1 & 1\\\\\n\t5 & 1 & 13.5 & 5.9 & 0 & 0 & 0 & 0\\\\\n\t6 & 1 & 13.0 & 6.8 & 1 & 1 & 1 & 1\\\\\n\\end{tabular}\n",
            "text/markdown": "\nA data.frame: 6 × 7\n\n| <!--/--> | long_hair &lt;int&gt; | forehead_width_cm &lt;dbl&gt; | forehead_height_cm &lt;dbl&gt; | nose_wide &lt;int&gt; | nose_long &lt;int&gt; | lips_thin &lt;int&gt; | distance_nose_to_lip_long &lt;int&gt; |\n|---|---|---|---|---|---|---|---|\n| 1 | 1 | 11.8 | 6.1 | 1 | 0 | 1 | 1 |\n| 2 | 0 | 14.0 | 5.4 | 0 | 0 | 1 | 0 |\n| 3 | 0 | 11.8 | 6.3 | 1 | 1 | 1 | 1 |\n| 4 | 0 | 14.4 | 6.1 | 0 | 1 | 1 | 1 |\n| 5 | 1 | 13.5 | 5.9 | 0 | 0 | 0 | 0 |\n| 6 | 1 | 13.0 | 6.8 | 1 | 1 | 1 | 1 |\n\n",
            "text/html": [
              "<table class=\"dataframe\">\n",
              "<caption>A data.frame: 6 × 7</caption>\n",
              "<thead>\n",
              "\t<tr><th></th><th scope=col>long_hair</th><th scope=col>forehead_width_cm</th><th scope=col>forehead_height_cm</th><th scope=col>nose_wide</th><th scope=col>nose_long</th><th scope=col>lips_thin</th><th scope=col>distance_nose_to_lip_long</th></tr>\n",
              "\t<tr><th></th><th scope=col>&lt;int&gt;</th><th scope=col>&lt;dbl&gt;</th><th scope=col>&lt;dbl&gt;</th><th scope=col>&lt;int&gt;</th><th scope=col>&lt;int&gt;</th><th scope=col>&lt;int&gt;</th><th scope=col>&lt;int&gt;</th></tr>\n",
              "</thead>\n",
              "<tbody>\n",
              "\t<tr><th scope=row>1</th><td>1</td><td>11.8</td><td>6.1</td><td>1</td><td>0</td><td>1</td><td>1</td></tr>\n",
              "\t<tr><th scope=row>2</th><td>0</td><td>14.0</td><td>5.4</td><td>0</td><td>0</td><td>1</td><td>0</td></tr>\n",
              "\t<tr><th scope=row>3</th><td>0</td><td>11.8</td><td>6.3</td><td>1</td><td>1</td><td>1</td><td>1</td></tr>\n",
              "\t<tr><th scope=row>4</th><td>0</td><td>14.4</td><td>6.1</td><td>0</td><td>1</td><td>1</td><td>1</td></tr>\n",
              "\t<tr><th scope=row>5</th><td>1</td><td>13.5</td><td>5.9</td><td>0</td><td>0</td><td>0</td><td>0</td></tr>\n",
              "\t<tr><th scope=row>6</th><td>1</td><td>13.0</td><td>6.8</td><td>1</td><td>1</td><td>1</td><td>1</td></tr>\n",
              "</tbody>\n",
              "</table>\n"
            ]
          },
          "metadata": {}
        }
      ]
    },
    {
      "cell_type": "code",
      "source": [
        "y=data[,8]"
      ],
      "metadata": {
        "id": "NgKoYFZAL4m5"
      },
      "execution_count": null,
      "outputs": []
    },
    {
      "cell_type": "code",
      "source": [
        "y"
      ],
      "metadata": {
        "colab": {
          "base_uri": "https://localhost:8080/",
          "height": 121
        },
        "id": "rGTJv-2bL8j2",
        "outputId": "d5cb56ec-21d6-4943-8dda-2dc912b883a5"
      },
      "execution_count": null,
      "outputs": [
        {
          "output_type": "display_data",
          "data": {
            "text/plain": [
              "   [1] 1 0 1 1 0 1 1 0 0 0 1 1 1 1 0 1 1 0 0 1 1 1 0 1 0 0 0 0 1 1 1 1 0 0 1 1 0\n",
              "  [38] 0 0 1 0 1 1 0 1 1 0 1 0 0 1 0 0 0 1 0 1 1 1 0 0 1 0 1 0 0 0 0 0 0 0 1 1 1\n",
              "  [75] 0 0 0 1 1 1 0 0 1 0 0 1 1 0 1 1 0 0 1 0 1 1 1 1 0 0 1 1 1 1 1 1 0 1 1 0 1\n",
              " [112] 0 1 1 0 0 0 0 1 1 0 0 0 1 1 0 1 1 0 0 1 0 1 0 1 0 1 0 1 1 0 1 0 0 1 0 1 1\n",
              " [149] 0 1 1 0 1 1 0 0 1 0 1 1 0 1 1 1 1 0 1 1 0 1 0 0 1 1 0 1 0 1 1 0 0 1 1 0 1\n",
              " [186] 0 1 1 0 1 0 1 1 0 1 0 1 0 0 0 1 0 0 1 0 1 1 1 0 0 0 0 0 1 1 1 0 0 1 0 0 1\n",
              " [223] 0 0 1 1 1 1 0 1 0 1 0 0 1 1 1 1 1 0 1 1 0 1 1 0 0 0 1 1 0 1 1 1 0 1 0 0 1\n",
              " [260] 0 0 1 1 1 0 1 1 1 1 0 1 0 0 1 1 0 0 0 0 1 1 0 1 1 0 0 1 1 0 0 1 0 1 0 1 0\n",
              " [297] 1 1 1 1 1 1 0 0 0 1 1 1 1 0 0 0 0 0 1 0 1 1 0 0 0 1 0 0 0 0 0 0 0 0 1 1 1\n",
              " [334] 0 1 1 1 1 1 0 0 0 0 1 1 0 0 0 1 1 0 1 0 1 0 1 0 1 0 1 0 1 0 0 1 0 1 0 1 0\n",
              " [371] 1 0 0 0 0 0 1 0 1 1 1 1 0 0 1 0 1 1 1 0 0 1 1 0 0 1 1 1 0 0 0 0 1 1 1 0 1\n",
              " [408] 1 0 0 1 0 0 0 1 1 1 0 1 0 0 1 0 0 1 1 0 1 0 0 0 1 0 1 0 0 1 0 1 0 0 1 1 1\n",
              " [445] 0 0 1 0 0 1 0 1 0 0 0 0 1 1 0 1 1 1 0 1 0 1 0 1 1 0 1 1 0 0 0 1 1 0 0 1 1\n",
              " [482] 0 0 0 0 1 0 1 0 1 1 1 0 1 1 1 0 1 1 0 0 1 1 0 1 0 0 0 0 1 1 0 0 0 1 0 0 0\n",
              " [519] 1 0 0 1 0 1 0 0 0 0 1 0 1 0 0 0 0 1 1 1 1 0 1 1 1 1 1 0 0 1 1 1 1 1 1 0 1\n",
              " [556] 1 1 1 0 1 1 0 0 0 0 1 1 0 0 1 1 0 0 1 1 0 1 1 1 1 0 0 1 1 0 0 1 0 0 1 1 0\n",
              " [593] 1 0 1 0 0 1 0 0 0 0 0 1 0 0 1 1 0 1 0 1 0 0 1 0 1 1 1 0 0 0 0 0 0 1 1 1 0\n",
              " [630] 1 1 1 0 1 1 1 0 1 0 0 0 1 1 1 1 0 1 0 0 0 1 1 0 1 1 0 1 1 1 1 0 0 1 1 1 0\n",
              " [667] 1 0 1 1 1 1 0 0 0 0 0 1 0 0 0 1 1 1 0 0 0 0 0 1 0 0 0 1 1 1 0 0 1 0 1 1 0\n",
              " [704] 0 0 1 1 1 1 0 1 1 0 0 0 1 1 1 1 1 1 0 1 0 1 1 1 1 1 1 0 0 0 0 1 0 0 1 1 1\n",
              " [741] 1 0 1 1 0 0 0 1 0 1 0 0 0 0 0 0 1 0 1 0 0 1 0 1 1 0 1 1 1 0 0 0 0 0 1 1 1\n",
              " [778] 0 1 1 0 1 0 1 0 1 1 0 0 1 0 0 1 1 1 1 1 0 0 0 0 1 1 1 0 0 1 0 0 0 0 0 0 0\n",
              " [815] 1 1 0 0 0 1 1 0 0 1 0 0 0 1 0 0 0 1 0 1 1 1 0 0 1 1 1 0 0 0 1 1 1 1 1 0 0\n",
              " [852] 1 0 0 1 1 1 0 1 0 0 0 0 1 1 0 0 0 1 0 0 1 0 0 1 0 1 0 1 1 1 1 1 0 0 1 0 1\n",
              " [889] 1 1 1 0 1 1 0 0 1 1 0 0 0 0 0 0 1 0 1 1 0 0 1 0 0 0 0 1 1 0 0 0 1 0 1 1 1\n",
              " [926] 0 0 1 1 1 0 1 1 0 1 1 1 0 0 0 0 1 1 0 0 0 1 0 0 1 0 1 1 0 0 1 0 1 1 0 1 0\n",
              " [963] 0 1 1 1 1 1 0 0 0 1 1 0 0 0 0 1 1 1 1 1 0 1 1 1 1 1 1 0 0 0 0 1 0 1 0 0 1\n",
              "[1000] 1 1 1 1 0 0 0 0 0 1 0 0 1 1 1 1 1 1 1 0 1 0 1 1 1 0 1 0 1 1 1 1 0 1 1 0 0\n",
              "[1037] 1 0 1 1 1 0 0 0 1 0 0 1 0 1 0 1 0 1 1 1 1 1 1 1 1 1 0 1 0 0 1 0 1 1 0 1 1\n",
              "[1074] 1 1 1 1 1 1 0 0 1 1 1 1 1 1 1 0 0 1 0 0 0 0 1 0 1 0 0 0 1 1 0 1 0 1 1 1 0\n",
              "[1111] 1 1 0 0 0 1 1 0 0 0 1 0 1 1 1 0 1 0 0 1 1 1 1 0 0 1 1 1 0 0 1 1 1 1 1 0 1\n",
              "[1148] 1 0 1 1 0 1 0 1 0 1 0 0 1 0 0 0 1 1 0 0 0 1 0 1 0 0 1 0 0 0 0 0 0 0 0 1 1\n",
              "[1185] 0 1 0 1 0 0 1 0 0 0 0 1 1 1 0 1 1 0 1 0 1 0 0 1 1 0 0 1 0 1 1 0 0 1 1 1 0\n",
              "[1222] 1 0 0 0 0 1 0 1 1 1 1 0 0 0 0 1 1 1 1 0 0 1 1 0 0 0 0 0 1 0 0 0 1 1 1 1 0\n",
              "[1259] 0 1 0 0 0 0 1 1 0 1 1 1 0 1 1 1 0 0 0 1 1 1 1 1 1 1 1 0 1 1 1 1 0 1 0 0 0\n",
              "[1296] 1 1 1 1 0 0 0 0 1 1 0 1 1 0 0 0 1 0 1 1 1 1 1 0 0 1 0 1 1 1 1 0 0 0 0 0 0\n",
              "[1333] 0 1 1 1 1 0 0 0 1 0 0 1 1 0 0 1 1 0 0 0 0 0 1 0 0 1 0 0 0 1 1 0 0 0 0 0 1\n",
              "[1370] 0 0 0 0 1 1 0 1 1 1 0 1 1 1 0 0 1 0 0 1 1 0 1 0 1 1 0 0 0 0 0 0 0 0 1 1 0\n",
              "[1407] 1 0 1 1 0 1 1 1 0 1 1 1 1 0 0 1 1 1 1 0 0 0 0 1 1 1 0 0 0 0 0 1 1 1 0 1 0\n",
              "[1444] 0 0 0 0 1 0 0 1 1 1 1 0 0 1 1 0 0 0 1 0 1 1 1 0 1 0 1 0 1 0 0 1 1 0 1 1 0\n",
              "[1481] 0 1 1 0 0 1 0 1 0 1 1 1 1 0 0 1 1 1 0 0 0 1 0 0 1 1 0 0 1 0 1 1 1 1 0 1 0\n",
              "[1518] 0 0 1 1 0 0 0 1 1 0 0 1 0 0 0 1 1 0 0 1 0 1 1 1 0 0 0 0 1 1 0 1 1 1 1 0 0\n",
              "[1555] 1 0 0 1 0 1 1 1 1 1 1 0 1 0 1 0 0 0 1 0 0 0 0 0 1 0 0 1 1 1 1 1 0 0 1 0 1\n",
              "[1592] 1 1 0 1 0 1 0 1 0 0 1 1 1 1 1 1 1 1 1 1 0 0 1 0 1 1 1 0 0 0 1 0 1 1 1 0 0\n",
              "[1629] 0 0 1 1 0 0 1 1 1 1 0 0 1 1 0 1 0 0 1 0 1 0 0 1 0 0 0 1 1 0 1 0 0 0 0 1 1\n",
              "[1666] 1 1 1 0 0 0 1 1 1 1 0 1 0 1 1 1 1 0 1 1 0 0 0 0 1 0 1 1 0 0 0 1 0 1 1 0 0\n",
              "[1703] 1 1 1 0 1 1 0 0 0 0 0 1 1 0 0 0 1 1 1 0 1 0 1 0 0 0 1 1 0 0 0 1 1 1 0 0 1\n",
              "[1740] 1 0 0 1 0 0 1 1 1 1 1 0 1 1 0 1 0 1 1 0 1 1 1 0 1 1 1 1 0 0 1 0 1 1 1 0 0\n",
              "[1777] 0 0 0 0 0 0 0 0 0 0 1 1 0 1 1 0 0 0 0 0 0 0 1 1 1 0 1 1 1 0 0 1 1 1 1 1 0\n",
              "[1814] 0 1 0 0 1 0 1 1 0 1 0 1 0 1 1 0 0 1 1 0 1 1 0 0 0 1 0 1 0 0 1 1 0 1 1 1 1\n",
              "[1851] 1 0 1 1 1 1 1 1 1 1 0 1 0 0 1 0 0 1 0 1 0 0 1 0 1 0 0 0 1 0 1 1 0 0 0 1 1\n",
              "[1888] 0 1 0 1 1 1 0 0 0 1 0 0 1 1 1 1 0 1 0 1 1 0 0 1 0 1 1 0 1 0 1 1 1 0 1 0 0\n",
              "[1925] 0 0 1 1 0 0 0 1 0 0 0 1 0 1 1 0 1 0 1 0 0 0 0 1 0 1 1 1 1 1 0 1 1 1 0 0 0\n",
              "[1962] 1 1 0 0 1 0 1 0 0 0 0 0 1 1 1 0 1 1 1 0 1 0 0 0 0 1 1 1 0 1 1 0 1 0 1 0 0\n",
              "[1999] 0 1 0 0 0 1 0 0 1 1 0 0 1 1 0 1 0 1 0 0 0 0 0 1 1 1 0 1 1 1 1 1 1 1 1 1 0\n",
              "[2036] 0 1 0 0 0 0 1 1 0 1 0 0 0 1 0 0 0 1 0 0 1 1 1 0 0 0 0 1 1 1 1 0 1 0 1 0 1\n",
              "[2073] 0 1 0 1 0 1 1 0 1 0 1 0 0 1 0 0 0 0 1 1 1 0 1 0 0 0 1 0 1 0 1 1 0 1 0 1 0\n",
              "[2110] 1 0 0 1 0 0 1 0 1 0 1 0 1 0 1 1 1 0 0 0 0 0 1 1 0 1 0 0 1 1 1 1 0 1 1 1 1\n",
              "[2147] 1 1 1 1 1 0 1 1 0 1 1 0 1 1 1 0 1 0 0 1 0 0 1 1 0 1 0 0 1 0 0 0 0 1 0 0 1\n",
              "[2184] 0 1 0 1 1 0 1 0 1 0 0 1 0 0 1 0 0 0 0 0 0 1 1 0 0 1 0 0 1 1 0 1 1 1 0 1 1\n",
              "[2221] 0 1 1 0 0 1 1 1 1 0 0 0 1 1 0 1 0 1 0 1 0 0 1 0 0 1 1 0 1 0 0 0 0 0 0 0 0\n",
              "[2258] 1 0 0 0 0 0 1 1 1 1 0 0 1 1 0 1 0 1 0 0 1 1 1 1 0 0 0 0 0 1 1 1 1 1 1 0 0\n",
              "[2295] 1 1 1 0 1 1 1 0 0 1 0 0 1 1 0 0 0 0 0 0 1 1 1 1 1 1 0 1 0 0 0 1 0 0 0 0 0\n",
              "[2332] 0 1 1 1 0 0 0 1 0 1 1 0 1 1 0 0 0 1 1 1 0 1 1 1 1 0 1 1 0 0 1 0 1 1 1 1 0\n",
              "[2369] 1 0 0 0 1 0 0 0 0 1 1 1 1 1 1 0 1 1 0 0 0 0 0 1 0 1 0 1 0 1 1 1 1 0 1 0 1\n",
              "[2406] 0 1 1 1 1 1 0 0 1 0 0 0 0 0 1 0 1 0 1 0 1 0 1 1 0 0 1 1 1 1 1 0 0 0 1 0 0\n",
              "[2443] 0 1 1 0 0 1 0 1 0 0 0 1 1 1 1 1 1 0 1 1 1 1 0 0 0 1 1 1 0 1 0 1 1 0 0 0 1\n",
              "[2480] 0 0 0 1 0 1 1 1 0 1 1 1 1 1 1 1 0 0 0 0 0 0 1 0 1 1 0 0 0 1 1 1 1 0 1 1 0\n",
              "[2517] 1 1 1 1 1 1 0 0 0 1 0 1 1 0 0 0 1 1 0 1 1 0 0 0 0 1 1 1 0 1 0 0 1 0 0 1 1\n",
              "[2554] 1 0 0 0 1 0 0 0 0 1 0 1 1 1 0 1 0 1 1 1 0 1 0 1 0 0 1 1 1 1 0 1 0 0 0 1 0\n",
              "[2591] 1 0 1 1 1 0 1 1 0 0 0 1 1 1 0 1 1 1 0 0 1 1 0 1 0 1 0 1 1 1 0 1 1 0 0 1 0\n",
              "[2628] 0 0 0 1 0 0 0 0 1 1 1 0 0 1 1 1 1 1 1 0 0 1 1 0 1 1 0 1 0 0 0 1 0 1 1 1 1\n",
              "[2665] 1 0 0 1 1 1 0 1 0 1 0 1 0 1 0 1 1 0 1 0 0 0 0 0 1 0 0 1 0 0 1 0 1 0 1 1 0\n",
              "[2702] 1 0 1 1 0 1 0 0 1 0 0 0 0 0 0 1 0 0 0 1 1 1 0 1 0 0 0 0 0 0 1 0 0 0 0 1 1\n",
              "[2739] 0 1 0 1 1 1 0 1 1 0 0 0 1 0 1 1 1 1 1 1 1 1 1 1 0 0 0 1 1 1 1 1 0 1 1 0 1\n",
              "[2776] 0 1 1 1 1 0 1 1 0 0 1 1 0 0 0 1 1 1 0 0 0 0 1 1 0 0 0 1 0 0 0 0 1 0 1 0 0\n",
              "[2813] 0 0 0 1 0 0 0 1 0 0 1 1 1 1 0 1 0 0 1 1 0 1 1 1 0 1 0 1 0 1 1 1 1 0 0 0 1\n",
              "[2850] 0 0 1 0 1 1 1 0 1 1 1 1 0 1 1 0 0 1 0 0 1 0 0 1 0 0 1 0 1 0 1 0 0 1 1 0 0\n",
              "[2887] 1 1 0 0 0 0 1 0 1 1 1 0 0 0 0 1 0 0 1 0 1 0 0 0 0 0 0 1 0 1 0 1 0 1 1 1 1\n",
              "[2924] 0 1 0 1 1 0 0 1 1 1 1 0 1 1 1 1 0 0 0 0 1 0 1 0 1 1 1 1 1 1 0 0 0 1 1 0 0\n",
              "[2961] 0 0 0 1 0 1 0 0 1 0 0 1 0 0 0 1 1 1 1 1 0 1 0 1 1 0 1 0 0 0 0 0 0 0 0 1 0\n",
              "[2998] 1 1 0 1 0 0 0 1 1 0 0 1 1 1 0 1 1 0 0 0 1 0 0 0 0 1 0 1 1 1 1 0 1 0 1 1 0\n",
              "[3035] 0 0 1 1 1 0 1 0 1 1 0 0 0 0 1 0 0 0 1 1 1 1 1 1 1 1 0 1 1 1 1 0 0 0 0 0 1\n",
              "[3072] 1 0 0 1 0 0 0 1 1 0 1 1 0 0 1 1 0 1 1 1 0 0 1 1 1 1 0 0 1 0 0 1 1 0 1 1 0\n",
              "[3109] 0 0 1 0 1 1 0 0 1 0 0 1 0 0 0 1 1 1 0 1 1 1 0 0 1 0 0 0 0 1 0 0 1 1 0 1 1\n",
              "[3146] 0 0 0 1 0 0 0 1 0 0 0 1 0 1 1 1 0 1 1 0 1 0 0 1 1 1 0 1 0 1 0 1 1 1 0 1 0\n",
              "[3183] 1 0 0 0 0 1 1 0 1 0 0 0 1 0 1 1 1 1 0 0 0 0 0 0 1 0 0 0 0 1 1 1 1 1 0 0 0\n",
              "[3220] 0 1 1 1 0 1 0 1 1 0 1 0 0 0 0 1 1 0 0 0 1 1 1 0 0 0 1 1 1 0 0 1 1 1 1 1 1\n",
              "[3257] 0 0 0 0 0 0 1 0 1 0 0 1 1 1 1 1 0 1 0 0 1 0 0 1 1 0 1 0 1 0 1 0 0 1 0 1 0\n",
              "[3294] 0 0 0 0 0 1 0 1 0 0 0 0 1 1 1 0 1 1 1 1 0 0 1 1 0 1 0 1 1 1 0 1 0 0 0 0 0\n",
              "[3331] 0 0 1 0 0 0 0 1 1 1 1 0 0 0 1 1 0 0 0 1 1 1 1 0 0 1 0 1 0 1 1 0 0 1 0 0 0\n",
              "[3368] 0 0 0 1 0 1 1 1 0 1 0 0 0 0 0 0 1 1 0 1 0 1 0 0 0 1 0 1 0 1 1 1 0 0 1 1 1\n",
              "[3405] 1 1 1 0 1 0 1 0 0 0 1 0 0 1 1 1 0 0 1 1 0 0 1 0 1 0 1 1 0 0 1 0 0 1 1 0 1\n",
              "[3442] 1 0 1 1 0 0 0 0 0 1 0 1 0 1 1 0 0 0 1 1 0 1 1 0 1 1 0 0 0 1 1 0 1 0 0 0 1\n",
              "[3479] 0 0 1 1 0 0 1 0 0 1 1 1 1 0 0 1 0 1 0 0 0 0 1 1 0 0 1 1 1 0 0 1 1 0 0 0 0\n",
              "[3516] 0 1 0 1 1 0 1 0 0 0 1 0 1 0 1 0 1 0 0 0 0 1 1 0 1 0 0 1 1 0 1 1 1 1 0 0 0\n",
              "[3553] 0 0 0 0 0 1 1 1 1 0 0 0 0 0 1 1 1 0 0 1 1 1 1 0 0 1 0 0 1 1 1 1 1 1 1 0 0\n",
              "[3590] 0 0 0 0 0 0 1 1 0 1 0 1 0 1 0 1 1 0 1 1 1 1 1 1 1 1 0 0 0 1 0 0 1 1 1 0 0\n",
              "[3627] 0 1 0 1 1 0 0 1 1 1 0 0 1 1 1 1 1 0 0 1 0 1 0 0 0 0 0 0 1 1 0 0 1 0 0 1 0\n",
              "[3664] 1 0 0 0 0 1 0 1 0 0 0 1 0 1 1 1 0 0 1 1 1 1 0 1 0 1 1 0 0 0 0 0 0 0 0 0 1\n",
              "[3701] 1 1 0 1 0 0 0 0 0 1 0 1 0 0 0 0 0 0 1 0 1 1 0 1 1 0 0 0 1 0 0 0 1 0 1 1 0\n",
              "[3738] 1 0 0 1 0 1 0 0 1 1 1 1 1 1 0 1 0 0 0 1 0 1 1 0 1 0 1 0 0 0 0 1 0 1 1 0 0\n",
              "[3775] 0 0 0 0 0 1 1 1 0 1 0 0 0 0 1 1 0 0 0 0 1 1 1 1 1 1 0 0 0 1 1 0 1 0 1 1 0\n",
              "[3812] 1 0 0 0 1 1 0 0 1 0 0 1 1 1 1 1 0 0 0 1 1 0 0 1 0 1 1 0 1 1 0 1 0 0 1 0 1\n",
              "[3849] 1 0 0 0 0 1 0 1 1 0 1 0 1 1 0 1 0 1 0 1 1 0 0 1 1 0 0 1 0 0 1 1 1 0 0 1 1\n",
              "[3886] 0 0 0 0 1 1 0 1 1 0 1 1 1 0 1 1 0 1 1 1 0 0 1 0 0 1 0 1 1 1 0 0 1 1 1 1 0\n",
              "[3923] 1 0 1 0 1 1 0 1 0 0 1 1 1 0 1 1 1 1 1 1 1 1 0 0 0 1 1 1 0 0 0 1 1 1 1 1 1\n",
              "[3960] 1 0 1 0 0 0 1 1 0 0 1 1 1 1 1 0 1 1 0 0 1 1 0 0 0 0 1 0 1 0 0 0 1 1 0 0 0\n",
              "[3997] 0 0 1 0 1 1 1 0 1 0 1 0 1 0 1 0 0 1 1 1 0 1 1 0 1 1 1 0 1 0 1 1 0 1 1 1 0\n",
              "[4034] 1 0 1 0 1 1 1 0 0 0 1 0 1 0 1 1 1 0 1 0 0 1 1 1 0 1 1 1 1 0 1 1 1 1 0 1 1\n",
              "[4071] 1 0 0 0 1 0 1 0 0 0 0 0 1 1 0 1 1 1 0 0 1 0 0 1 0 1 0 0 0 1 1 0 0 1 0 0 0\n",
              "[4108] 1 1 0 1 0 0 0 0 1 1 0 0 1 0 0 0 0 0 1 0 0 0 1 0 1 1 1 1 0 0 1 0 0 1 0 1 0\n",
              "[4145] 1 0 1 0 0 1 0 1 0 1 0 1 0 0 0 1 0 0 1 1 1 0 1 1 1 1 0 0 1 1 1 0 0 1 1 1 1\n",
              "[4182] 0 0 1 0 0 1 0 1 0 0 1 1 0 1 1 0 0 1 0 0 1 0 0 1 1 0 1 1 0 1 0 1 0 1 1 0 1\n",
              "[4219] 0 0 0 0 0 0 1 0 0 0 0 0 1 0 0 0 0 1 1 0 0 0 0 0 1 0 0 1 0 0 1 0 0 1 1 0 0\n",
              "[4256] 1 0 1 1 0 0 1 0 0 1 1 1 0 0 0 0 1 1 0 1 0 0 1 1 0 1 0 1 0 1 1 1 0 0 0 1 1\n",
              "[4293] 0 0 0 1 1 0 1 0 0 1 1 0 0 0 0 1 0 1 0 1 0 0 1 0 0 0 1 0 0 0 1 1 0 1 0 1 0\n",
              "[4330] 1 0 0 1 1 1 1 1 0 0 1 0 0 1 1 1 1 1 1 0 0 0 0 1 1 0 0 0 1 0 0 1 1 1 1 1 1\n",
              "[4367] 1 1 0 0 0 1 1 1 1 1 0 0 1 1 1 1 1 0 1 0 0 1 1 1 1 1 0 0 0 1 0 1 1 1 0 1 0\n",
              "[4404] 0 1 0 1 0 0 0 1 1 1 1 1 1 1 1 0 0 0 0 0 1 1 0 0 0 0 1 1 0 1 0 0 0 1 0 0 0\n",
              "[4441] 1 1 0 0 0 0 0 0 0 0 1 0 0 1 1 1 1 0 0 1 0 0 1 1 1 0 1 1 0 1 1 1 0 1 1 1 1\n",
              "[4478] 1 1 1 0 1 0 1 0 1 1 0 1 1 0 0 1 1 0 0 0 0 0 1 0 1 1 0 0 0 0 0 1 1 0 0 0 1\n",
              "[4515] 1 0 0 0 0 0 1 1 1 1 0 1 1 1 0 0 1 0 0 0 1 0 0 1 0 1 0 0 0 1 1 0 1 1 1 1 0\n",
              "[4552] 0 0 1 0 0 1 0 1 0 1 0 1 0 1 1 0 1 0 1 1 0 0 0 1 1 0 1 0 1 0 1 0 1 1 1 1 0\n",
              "[4589] 1 0 0 1 1 1 0 1 0 0 0 1 0 0 1 1 0 1 1 1 0 0 1 1 0 0 1 1 0 0 1 1 0 1 1 0 1\n",
              "[4626] 1 0 0 1 1 1 1 0 1 0 0 1 1 0 0 0 0 0 1 1 1 0 1 0 0 0 0 1 1 1 1 1 1 0 1 0 1\n",
              "[4663] 0 1 1 0 1 1 1 1 1 1 0 1 0 0 0 1 1 1 0 0 1 1 0 1 1 1 0 0 0 1 0 0 1 0 1 0 1\n",
              "[4700] 1 1 0 0 0 0 0 1 0 0 1 0 0 1 1 1 1 1 1 0 1 0 1 1 0 1 0 0 0 0 1 1 0 1 0 1 1\n",
              "[4737] 0 0 0 0 0 0 0 0 0 1 0 0 1 0 1 1 1 0 1 0 1 1 0 0 0 0 0 0 1 0 1 1 0 1 1 0 1\n",
              "[4774] 0 1 1 0 1 0 1 1 1 1 1 1 0 0 1 1 1 0 0 0 1 0 1 1 0 0 0 0 1 1 0 0 0 1 0 1 1\n",
              "[4811] 0 0 0 1 0 1 0 1 0 0 0 0 0 0 1 0 1 1 0 1 0 1 0 0 1 0 0 1 0 0 0 1 0 0 1 1 0\n",
              "[4848] 0 1 0 1 0 1 0 0 1 1 1 0 1 0 0 1 1 0 1 1 0 0 1 1 1 0 0 1 0 1 1 0 1 0 1 0 0\n",
              "[4885] 1 1 1 0 1 1 0 0 0 0 1 0 0 0 1 0 0 0 1 0 1 0 1 1 1 0 1 0 0 1 0 1 0 1 0 1 1\n",
              "[4922] 1 0 0 1 0 0 0 1 1 0 1 0 1 1 1 1 1 0 1 0 0 1 1 1 0 0 0 1 0 1 0 0 0 1 1 0 0\n",
              "[4959] 0 0 1 1 1 0 1 1 0 1 1 1 0 1 0 0 1 1 0 1 1 1 1 1 0 0 1 0 1 1 0 0 0 0 1 0 1\n",
              "[4996] 1 0 0 0 0 1"
            ],
            "text/latex": "\\begin{enumerate*}\n\\item 1\n\\item 0\n\\item 1\n\\item 1\n\\item 0\n\\item 1\n\\item 1\n\\item 0\n\\item 0\n\\item 0\n\\item 1\n\\item 1\n\\item 1\n\\item 1\n\\item 0\n\\item 1\n\\item 1\n\\item 0\n\\item 0\n\\item 1\n\\item 1\n\\item 1\n\\item 0\n\\item 1\n\\item 0\n\\item 0\n\\item 0\n\\item 0\n\\item 1\n\\item 1\n\\item 1\n\\item 1\n\\item 0\n\\item 0\n\\item 1\n\\item 1\n\\item 0\n\\item 0\n\\item 0\n\\item 1\n\\item 0\n\\item 1\n\\item 1\n\\item 0\n\\item 1\n\\item 1\n\\item 0\n\\item 1\n\\item 0\n\\item 0\n\\item 1\n\\item 0\n\\item 0\n\\item 0\n\\item 1\n\\item 0\n\\item 1\n\\item 1\n\\item 1\n\\item 0\n\\item 0\n\\item 1\n\\item 0\n\\item 1\n\\item 0\n\\item 0\n\\item 0\n\\item 0\n\\item 0\n\\item 0\n\\item 0\n\\item 1\n\\item 1\n\\item 1\n\\item 0\n\\item 0\n\\item 0\n\\item 1\n\\item 1\n\\item 1\n\\item 0\n\\item 0\n\\item 1\n\\item 0\n\\item 0\n\\item 1\n\\item 1\n\\item 0\n\\item 1\n\\item 1\n\\item 0\n\\item 0\n\\item 1\n\\item 0\n\\item 1\n\\item 1\n\\item 1\n\\item 1\n\\item 0\n\\item 0\n\\item 1\n\\item 1\n\\item 1\n\\item 1\n\\item 1\n\\item 1\n\\item 0\n\\item 1\n\\item 1\n\\item 0\n\\item 1\n\\item 0\n\\item 1\n\\item 1\n\\item 0\n\\item 0\n\\item 0\n\\item 0\n\\item 1\n\\item 1\n\\item 0\n\\item 0\n\\item 0\n\\item 1\n\\item 1\n\\item 0\n\\item 1\n\\item 1\n\\item 0\n\\item 0\n\\item 1\n\\item 0\n\\item 1\n\\item 0\n\\item 1\n\\item 0\n\\item 1\n\\item 0\n\\item 1\n\\item 1\n\\item 0\n\\item 1\n\\item 0\n\\item 0\n\\item 1\n\\item 0\n\\item 1\n\\item 1\n\\item 0\n\\item 1\n\\item 1\n\\item 0\n\\item 1\n\\item 1\n\\item 0\n\\item 0\n\\item 1\n\\item 0\n\\item 1\n\\item 1\n\\item 0\n\\item 1\n\\item 1\n\\item 1\n\\item 1\n\\item 0\n\\item 1\n\\item 1\n\\item 0\n\\item 1\n\\item 0\n\\item 0\n\\item 1\n\\item 1\n\\item 0\n\\item 1\n\\item 0\n\\item 1\n\\item 1\n\\item 0\n\\item 0\n\\item 1\n\\item 1\n\\item 0\n\\item 1\n\\item 0\n\\item 1\n\\item 1\n\\item 0\n\\item 1\n\\item 0\n\\item 1\n\\item 1\n\\item 0\n\\item 1\n\\item 0\n\\item 1\n\\item 0\n\\item 0\n\\item 0\n\\item ⋯\n\\item 1\n\\item 1\n\\item 0\n\\item 0\n\\item 0\n\\item 1\n\\item 0\n\\item 1\n\\item 1\n\\item 0\n\\item 0\n\\item 0\n\\item 1\n\\item 0\n\\item 1\n\\item 0\n\\item 1\n\\item 0\n\\item 0\n\\item 0\n\\item 0\n\\item 0\n\\item 0\n\\item 1\n\\item 0\n\\item 1\n\\item 1\n\\item 0\n\\item 1\n\\item 0\n\\item 1\n\\item 0\n\\item 0\n\\item 1\n\\item 0\n\\item 0\n\\item 1\n\\item 0\n\\item 0\n\\item 0\n\\item 1\n\\item 0\n\\item 0\n\\item 1\n\\item 1\n\\item 0\n\\item 0\n\\item 1\n\\item 0\n\\item 1\n\\item 0\n\\item 1\n\\item 0\n\\item 0\n\\item 1\n\\item 1\n\\item 1\n\\item 0\n\\item 1\n\\item 0\n\\item 0\n\\item 1\n\\item 1\n\\item 0\n\\item 1\n\\item 1\n\\item 0\n\\item 0\n\\item 1\n\\item 1\n\\item 1\n\\item 0\n\\item 0\n\\item 1\n\\item 0\n\\item 1\n\\item 1\n\\item 0\n\\item 1\n\\item 0\n\\item 1\n\\item 0\n\\item 0\n\\item 1\n\\item 1\n\\item 1\n\\item 0\n\\item 1\n\\item 1\n\\item 0\n\\item 0\n\\item 0\n\\item 0\n\\item 1\n\\item 0\n\\item 0\n\\item 0\n\\item 1\n\\item 0\n\\item 0\n\\item 0\n\\item 1\n\\item 0\n\\item 1\n\\item 0\n\\item 1\n\\item 1\n\\item 1\n\\item 0\n\\item 1\n\\item 0\n\\item 0\n\\item 1\n\\item 0\n\\item 1\n\\item 0\n\\item 1\n\\item 0\n\\item 1\n\\item 1\n\\item 1\n\\item 0\n\\item 0\n\\item 1\n\\item 0\n\\item 0\n\\item 0\n\\item 1\n\\item 1\n\\item 0\n\\item 1\n\\item 0\n\\item 1\n\\item 1\n\\item 1\n\\item 1\n\\item 1\n\\item 0\n\\item 1\n\\item 0\n\\item 0\n\\item 1\n\\item 1\n\\item 1\n\\item 0\n\\item 0\n\\item 0\n\\item 1\n\\item 0\n\\item 1\n\\item 0\n\\item 0\n\\item 0\n\\item 1\n\\item 1\n\\item 0\n\\item 0\n\\item 0\n\\item 0\n\\item 1\n\\item 1\n\\item 1\n\\item 0\n\\item 1\n\\item 1\n\\item 0\n\\item 1\n\\item 1\n\\item 1\n\\item 0\n\\item 1\n\\item 0\n\\item 0\n\\item 1\n\\item 1\n\\item 0\n\\item 1\n\\item 1\n\\item 1\n\\item 1\n\\item 1\n\\item 0\n\\item 0\n\\item 1\n\\item 0\n\\item 1\n\\item 1\n\\item 0\n\\item 0\n\\item 0\n\\item 0\n\\item 1\n\\item 0\n\\item 1\n\\item 1\n\\item 0\n\\item 0\n\\item 0\n\\item 0\n\\item 1\n\\end{enumerate*}\n",
            "text/markdown": "1. 1\n2. 0\n3. 1\n4. 1\n5. 0\n6. 1\n7. 1\n8. 0\n9. 0\n10. 0\n11. 1\n12. 1\n13. 1\n14. 1\n15. 0\n16. 1\n17. 1\n18. 0\n19. 0\n20. 1\n21. 1\n22. 1\n23. 0\n24. 1\n25. 0\n26. 0\n27. 0\n28. 0\n29. 1\n30. 1\n31. 1\n32. 1\n33. 0\n34. 0\n35. 1\n36. 1\n37. 0\n38. 0\n39. 0\n40. 1\n41. 0\n42. 1\n43. 1\n44. 0\n45. 1\n46. 1\n47. 0\n48. 1\n49. 0\n50. 0\n51. 1\n52. 0\n53. 0\n54. 0\n55. 1\n56. 0\n57. 1\n58. 1\n59. 1\n60. 0\n61. 0\n62. 1\n63. 0\n64. 1\n65. 0\n66. 0\n67. 0\n68. 0\n69. 0\n70. 0\n71. 0\n72. 1\n73. 1\n74. 1\n75. 0\n76. 0\n77. 0\n78. 1\n79. 1\n80. 1\n81. 0\n82. 0\n83. 1\n84. 0\n85. 0\n86. 1\n87. 1\n88. 0\n89. 1\n90. 1\n91. 0\n92. 0\n93. 1\n94. 0\n95. 1\n96. 1\n97. 1\n98. 1\n99. 0\n100. 0\n101. 1\n102. 1\n103. 1\n104. 1\n105. 1\n106. 1\n107. 0\n108. 1\n109. 1\n110. 0\n111. 1\n112. 0\n113. 1\n114. 1\n115. 0\n116. 0\n117. 0\n118. 0\n119. 1\n120. 1\n121. 0\n122. 0\n123. 0\n124. 1\n125. 1\n126. 0\n127. 1\n128. 1\n129. 0\n130. 0\n131. 1\n132. 0\n133. 1\n134. 0\n135. 1\n136. 0\n137. 1\n138. 0\n139. 1\n140. 1\n141. 0\n142. 1\n143. 0\n144. 0\n145. 1\n146. 0\n147. 1\n148. 1\n149. 0\n150. 1\n151. 1\n152. 0\n153. 1\n154. 1\n155. 0\n156. 0\n157. 1\n158. 0\n159. 1\n160. 1\n161. 0\n162. 1\n163. 1\n164. 1\n165. 1\n166. 0\n167. 1\n168. 1\n169. 0\n170. 1\n171. 0\n172. 0\n173. 1\n174. 1\n175. 0\n176. 1\n177. 0\n178. 1\n179. 1\n180. 0\n181. 0\n182. 1\n183. 1\n184. 0\n185. 1\n186. 0\n187. 1\n188. 1\n189. 0\n190. 1\n191. 0\n192. 1\n193. 1\n194. 0\n195. 1\n196. 0\n197. 1\n198. 0\n199. 0\n200. 0\n201. ⋯\n202. 1\n203. 1\n204. 0\n205. 0\n206. 0\n207. 1\n208. 0\n209. 1\n210. 1\n211. 0\n212. 0\n213. 0\n214. 1\n215. 0\n216. 1\n217. 0\n218. 1\n219. 0\n220. 0\n221. 0\n222. 0\n223. 0\n224. 0\n225. 1\n226. 0\n227. 1\n228. 1\n229. 0\n230. 1\n231. 0\n232. 1\n233. 0\n234. 0\n235. 1\n236. 0\n237. 0\n238. 1\n239. 0\n240. 0\n241. 0\n242. 1\n243. 0\n244. 0\n245. 1\n246. 1\n247. 0\n248. 0\n249. 1\n250. 0\n251. 1\n252. 0\n253. 1\n254. 0\n255. 0\n256. 1\n257. 1\n258. 1\n259. 0\n260. 1\n261. 0\n262. 0\n263. 1\n264. 1\n265. 0\n266. 1\n267. 1\n268. 0\n269. 0\n270. 1\n271. 1\n272. 1\n273. 0\n274. 0\n275. 1\n276. 0\n277. 1\n278. 1\n279. 0\n280. 1\n281. 0\n282. 1\n283. 0\n284. 0\n285. 1\n286. 1\n287. 1\n288. 0\n289. 1\n290. 1\n291. 0\n292. 0\n293. 0\n294. 0\n295. 1\n296. 0\n297. 0\n298. 0\n299. 1\n300. 0\n301. 0\n302. 0\n303. 1\n304. 0\n305. 1\n306. 0\n307. 1\n308. 1\n309. 1\n310. 0\n311. 1\n312. 0\n313. 0\n314. 1\n315. 0\n316. 1\n317. 0\n318. 1\n319. 0\n320. 1\n321. 1\n322. 1\n323. 0\n324. 0\n325. 1\n326. 0\n327. 0\n328. 0\n329. 1\n330. 1\n331. 0\n332. 1\n333. 0\n334. 1\n335. 1\n336. 1\n337. 1\n338. 1\n339. 0\n340. 1\n341. 0\n342. 0\n343. 1\n344. 1\n345. 1\n346. 0\n347. 0\n348. 0\n349. 1\n350. 0\n351. 1\n352. 0\n353. 0\n354. 0\n355. 1\n356. 1\n357. 0\n358. 0\n359. 0\n360. 0\n361. 1\n362. 1\n363. 1\n364. 0\n365. 1\n366. 1\n367. 0\n368. 1\n369. 1\n370. 1\n371. 0\n372. 1\n373. 0\n374. 0\n375. 1\n376. 1\n377. 0\n378. 1\n379. 1\n380. 1\n381. 1\n382. 1\n383. 0\n384. 0\n385. 1\n386. 0\n387. 1\n388. 1\n389. 0\n390. 0\n391. 0\n392. 0\n393. 1\n394. 0\n395. 1\n396. 1\n397. 0\n398. 0\n399. 0\n400. 0\n401. 1\n\n\n",
            "text/html": [
              "<style>\n",
              ".list-inline {list-style: none; margin:0; padding: 0}\n",
              ".list-inline>li {display: inline-block}\n",
              ".list-inline>li:not(:last-child)::after {content: \"\\00b7\"; padding: 0 .5ex}\n",
              "</style>\n",
              "<ol class=list-inline><li>1</li><li>0</li><li>1</li><li>1</li><li>0</li><li>1</li><li>1</li><li>0</li><li>0</li><li>0</li><li>1</li><li>1</li><li>1</li><li>1</li><li>0</li><li>1</li><li>1</li><li>0</li><li>0</li><li>1</li><li>1</li><li>1</li><li>0</li><li>1</li><li>0</li><li>0</li><li>0</li><li>0</li><li>1</li><li>1</li><li>1</li><li>1</li><li>0</li><li>0</li><li>1</li><li>1</li><li>0</li><li>0</li><li>0</li><li>1</li><li>0</li><li>1</li><li>1</li><li>0</li><li>1</li><li>1</li><li>0</li><li>1</li><li>0</li><li>0</li><li>1</li><li>0</li><li>0</li><li>0</li><li>1</li><li>0</li><li>1</li><li>1</li><li>1</li><li>0</li><li>0</li><li>1</li><li>0</li><li>1</li><li>0</li><li>0</li><li>0</li><li>0</li><li>0</li><li>0</li><li>0</li><li>1</li><li>1</li><li>1</li><li>0</li><li>0</li><li>0</li><li>1</li><li>1</li><li>1</li><li>0</li><li>0</li><li>1</li><li>0</li><li>0</li><li>1</li><li>1</li><li>0</li><li>1</li><li>1</li><li>0</li><li>0</li><li>1</li><li>0</li><li>1</li><li>1</li><li>1</li><li>1</li><li>0</li><li>0</li><li>1</li><li>1</li><li>1</li><li>1</li><li>1</li><li>1</li><li>0</li><li>1</li><li>1</li><li>0</li><li>1</li><li>0</li><li>1</li><li>1</li><li>0</li><li>0</li><li>0</li><li>0</li><li>1</li><li>1</li><li>0</li><li>0</li><li>0</li><li>1</li><li>1</li><li>0</li><li>1</li><li>1</li><li>0</li><li>0</li><li>1</li><li>0</li><li>1</li><li>0</li><li>1</li><li>0</li><li>1</li><li>0</li><li>1</li><li>1</li><li>0</li><li>1</li><li>0</li><li>0</li><li>1</li><li>0</li><li>1</li><li>1</li><li>0</li><li>1</li><li>1</li><li>0</li><li>1</li><li>1</li><li>0</li><li>0</li><li>1</li><li>0</li><li>1</li><li>1</li><li>0</li><li>1</li><li>1</li><li>1</li><li>1</li><li>0</li><li>1</li><li>1</li><li>0</li><li>1</li><li>0</li><li>0</li><li>1</li><li>1</li><li>0</li><li>1</li><li>0</li><li>1</li><li>1</li><li>0</li><li>0</li><li>1</li><li>1</li><li>0</li><li>1</li><li>0</li><li>1</li><li>1</li><li>0</li><li>1</li><li>0</li><li>1</li><li>1</li><li>0</li><li>1</li><li>0</li><li>1</li><li>0</li><li>0</li><li>0</li><li>⋯</li><li>1</li><li>1</li><li>0</li><li>0</li><li>0</li><li>1</li><li>0</li><li>1</li><li>1</li><li>0</li><li>0</li><li>0</li><li>1</li><li>0</li><li>1</li><li>0</li><li>1</li><li>0</li><li>0</li><li>0</li><li>0</li><li>0</li><li>0</li><li>1</li><li>0</li><li>1</li><li>1</li><li>0</li><li>1</li><li>0</li><li>1</li><li>0</li><li>0</li><li>1</li><li>0</li><li>0</li><li>1</li><li>0</li><li>0</li><li>0</li><li>1</li><li>0</li><li>0</li><li>1</li><li>1</li><li>0</li><li>0</li><li>1</li><li>0</li><li>1</li><li>0</li><li>1</li><li>0</li><li>0</li><li>1</li><li>1</li><li>1</li><li>0</li><li>1</li><li>0</li><li>0</li><li>1</li><li>1</li><li>0</li><li>1</li><li>1</li><li>0</li><li>0</li><li>1</li><li>1</li><li>1</li><li>0</li><li>0</li><li>1</li><li>0</li><li>1</li><li>1</li><li>0</li><li>1</li><li>0</li><li>1</li><li>0</li><li>0</li><li>1</li><li>1</li><li>1</li><li>0</li><li>1</li><li>1</li><li>0</li><li>0</li><li>0</li><li>0</li><li>1</li><li>0</li><li>0</li><li>0</li><li>1</li><li>0</li><li>0</li><li>0</li><li>1</li><li>0</li><li>1</li><li>0</li><li>1</li><li>1</li><li>1</li><li>0</li><li>1</li><li>0</li><li>0</li><li>1</li><li>0</li><li>1</li><li>0</li><li>1</li><li>0</li><li>1</li><li>1</li><li>1</li><li>0</li><li>0</li><li>1</li><li>0</li><li>0</li><li>0</li><li>1</li><li>1</li><li>0</li><li>1</li><li>0</li><li>1</li><li>1</li><li>1</li><li>1</li><li>1</li><li>0</li><li>1</li><li>0</li><li>0</li><li>1</li><li>1</li><li>1</li><li>0</li><li>0</li><li>0</li><li>1</li><li>0</li><li>1</li><li>0</li><li>0</li><li>0</li><li>1</li><li>1</li><li>0</li><li>0</li><li>0</li><li>0</li><li>1</li><li>1</li><li>1</li><li>0</li><li>1</li><li>1</li><li>0</li><li>1</li><li>1</li><li>1</li><li>0</li><li>1</li><li>0</li><li>0</li><li>1</li><li>1</li><li>0</li><li>1</li><li>1</li><li>1</li><li>1</li><li>1</li><li>0</li><li>0</li><li>1</li><li>0</li><li>1</li><li>1</li><li>0</li><li>0</li><li>0</li><li>0</li><li>1</li><li>0</li><li>1</li><li>1</li><li>0</li><li>0</li><li>0</li><li>0</li><li>1</li></ol>\n"
            ]
          },
          "metadata": {}
        }
      ]
    },
    {
      "cell_type": "code",
      "source": [
        "random<-sample(1:nrow(x),0.8*nrow(x))"
      ],
      "metadata": {
        "id": "kbIalu25MCIr"
      },
      "execution_count": null,
      "outputs": []
    },
    {
      "cell_type": "code",
      "source": [
        "x_train=x[random,]\n",
        "x_test=x[-random,]\n"
      ],
      "metadata": {
        "id": "aMYWrRpZMne0"
      },
      "execution_count": null,
      "outputs": []
    },
    {
      "cell_type": "code",
      "source": [
        "print(dim(x_train))\n",
        "print(dim(x_test))"
      ],
      "metadata": {
        "colab": {
          "base_uri": "https://localhost:8080/"
        },
        "id": "OzuIVMxMM7OY",
        "outputId": "7e6e0c61-7d13-4acc-d753-73ee78d89f16"
      },
      "execution_count": null,
      "outputs": [
        {
          "output_type": "stream",
          "name": "stdout",
          "text": [
            "[1] 4000    7\n",
            "[1] 1001    7\n"
          ]
        }
      ]
    },
    {
      "cell_type": "code",
      "source": [
        "y_train=y[random]\n",
        "y_test=y[-random]"
      ],
      "metadata": {
        "id": "bpCOS-e4NESg"
      },
      "execution_count": null,
      "outputs": []
    },
    {
      "cell_type": "code",
      "source": [
        "print(length(y_train))\n",
        "print(length(y_test))"
      ],
      "metadata": {
        "colab": {
          "base_uri": "https://localhost:8080/"
        },
        "id": "SP3OOmvHNJZW",
        "outputId": "e355908e-1495-47cd-b977-87cfb73bfc8b"
      },
      "execution_count": null,
      "outputs": [
        {
          "output_type": "stream",
          "name": "stdout",
          "text": [
            "[1] 4000\n",
            "[1] 1001\n"
          ]
        }
      ]
    },
    {
      "cell_type": "code",
      "source": [
        "euclidean<-function(a,b){\n",
        "  dist<-0\n",
        "  for (i in c(1:length(a))){\n",
        "    dist<- dist + (a[[i]]-b[[i]])^2\n",
        "  }\n",
        "  dist<-sqrt(dist)\n",
        "  return(dist)\n",
        "}"
      ],
      "metadata": {
        "id": "pjgLdhddNRpg"
      },
      "execution_count": null,
      "outputs": []
    },
    {
      "cell_type": "code",
      "source": [
        "KNNClassify <- function(x_train,x_test,y_train,k){\n",
        "  prediction <- c()\n",
        "\n",
        "  for (i in c(1:nrow(x_test))){\n",
        "    dist <- c()\n",
        "    categ <- c()\n",
        "    Male <- 0\n",
        "    Female <- 0\n",
        "\n",
        "    for (j in c(1:nrow(x_train))){\n",
        "\n",
        "      dist <- c(dist,euclidean(x_test[i,],x_train[j,]))\n",
        "      categ <- c(categ,y_train[j])\n",
        "    }\n",
        "\n",
        "    predFrame= data.frame(categ,dist)\n",
        "    predFrame= predFrame[order(predFrame$dist),]\n",
        "    predFrame= predFrame[1:k,]\n",
        "\n",
        "    for (p in c(1:nrow(predFrame))){\n",
        "      if(predFrame[p,'categ']==1)\n",
        "      {\n",
        "        Male <- Male +1\n",
        "      }\n",
        "      else {\n",
        "        Female <- Female+1\n",
        "      }\n",
        "    }\n",
        "\n",
        "    if(Male> Female){\n",
        "      prediction<- c(prediction,1)\n",
        "    }\n",
        "    else {\n",
        "      prediction <- c(prediction,0)\n",
        "    }\n",
        "\n",
        "  }\n",
        "  return(prediction)\n",
        "}"
      ],
      "metadata": {
        "id": "KsP6gkUvOLbE"
      },
      "execution_count": null,
      "outputs": []
    },
    {
      "cell_type": "code",
      "source": [
        "pred <- KNNClassify(x_train,x_test,y_train,6)"
      ],
      "metadata": {
        "id": "Xz7us9QCRQG3"
      },
      "execution_count": null,
      "outputs": []
    },
    {
      "cell_type": "code",
      "source": [
        "correct <- 0\n",
        "\n",
        "for (i in c(1:length(y_test))){\n",
        "  if(y_test[i]==pred[i])\n",
        "  {\n",
        "    correct<-correct+1\n",
        "  }\n",
        "}\n",
        "\n",
        "accuracy <- (correct/length(y_test))*100"
      ],
      "metadata": {
        "id": "6wlsLHG7VIwf"
      },
      "execution_count": null,
      "outputs": []
    },
    {
      "cell_type": "code",
      "source": [
        "accuracy"
      ],
      "metadata": {
        "id": "Z1D_KJthVzXS",
        "outputId": "af4e00a5-4fc2-436a-c000-c73706d9b099",
        "colab": {
          "base_uri": "https://localhost:8080/",
          "height": 35
        }
      },
      "execution_count": null,
      "outputs": [
        {
          "output_type": "display_data",
          "data": {
            "text/plain": [
              "[1] 97.1029"
            ],
            "text/latex": "97.1028971028971",
            "text/markdown": "97.1028971028971",
            "text/html": [
              "97.1028971028971"
            ]
          },
          "metadata": {}
        }
      ]
    }
  ]
}